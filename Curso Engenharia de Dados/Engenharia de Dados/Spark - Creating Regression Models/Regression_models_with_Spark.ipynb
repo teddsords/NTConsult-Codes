{
  "nbformat": 4,
  "nbformat_minor": 0,
  "metadata": {
    "colab": {
      "provenance": []
    },
    "kernelspec": {
      "name": "python3",
      "display_name": "Python 3"
    },
    "language_info": {
      "name": "python"
    }
  },
  "cells": [
    {
      "cell_type": "markdown",
      "source": [
        "# Regresion Models with Pyspark\n",
        "\n",
        "In this notebook we will create regression models for predicting house prices considering their characteristics. We will be using Pyspark as our framework."
      ],
      "metadata": {
        "id": "ah7zRH_w-eSk"
      }
    },
    {
      "cell_type": "markdown",
      "source": [
        "## Installing Dependencies"
      ],
      "metadata": {
        "id": "0c0sakhz-yf4"
      }
    },
    {
      "cell_type": "code",
      "execution_count": null,
      "metadata": {
        "colab": {
          "base_uri": "https://localhost:8080/"
        },
        "id": "hcaIqHKV7o0F",
        "outputId": "68e8e05f-93f0-4989-c8a4-4ffb279c3672"
      },
      "outputs": [
        {
          "output_type": "stream",
          "name": "stdout",
          "text": [
            "Looking in indexes: https://pypi.org/simple, https://us-python.pkg.dev/colab-wheels/public/simple/\n",
            "Requirement already satisfied: pyspark in /usr/local/lib/python3.8/dist-packages (3.3.1)\n",
            "Requirement already satisfied: py4j==0.10.9.5 in /usr/local/lib/python3.8/dist-packages (from pyspark) (0.10.9.5)\n"
          ]
        }
      ],
      "source": [
        "!pip install pyspark"
      ]
    },
    {
      "cell_type": "markdown",
      "source": [
        "## Spark Session\n",
        "\n",
        "In this section we will crate a Spark Session so we can start working with it"
      ],
      "metadata": {
        "id": "z9w2GKxD-2V1"
      }
    },
    {
      "cell_type": "code",
      "source": [
        "from pyspark.sql import SparkSession\n",
        "\n",
        "spark = SparkSession.builder\\\n",
        "        .master('local[*]')\\\n",
        "        .appName('Regression with Spark')\\\n",
        "        .getOrCreate()\n",
        "\n",
        "spark"
      ],
      "metadata": {
        "colab": {
          "base_uri": "https://localhost:8080/",
          "height": 216
        },
        "id": "W6WH4pdo9_in",
        "outputId": "9797d502-7a9e-4ab1-9ce4-00fd4e094db0"
      },
      "execution_count": null,
      "outputs": [
        {
          "output_type": "execute_result",
          "data": {
            "text/plain": [
              "<pyspark.sql.session.SparkSession at 0x7fb2dd2b6b50>"
            ],
            "text/html": [
              "\n",
              "            <div>\n",
              "                <p><b>SparkSession - in-memory</b></p>\n",
              "                \n",
              "        <div>\n",
              "            <p><b>SparkContext</b></p>\n",
              "\n",
              "            <p><a href=\"http://4e02658da748:4040\">Spark UI</a></p>\n",
              "\n",
              "            <dl>\n",
              "              <dt>Version</dt>\n",
              "                <dd><code>v3.3.1</code></dd>\n",
              "              <dt>Master</dt>\n",
              "                <dd><code>local[*]</code></dd>\n",
              "              <dt>AppName</dt>\n",
              "                <dd><code>Regression with Spark</code></dd>\n",
              "            </dl>\n",
              "        </div>\n",
              "        \n",
              "            </div>\n",
              "        "
            ]
          },
          "metadata": {},
          "execution_count": 86
        }
      ]
    },
    {
      "cell_type": "markdown",
      "source": [
        "## Mounting drive\n",
        "\n",
        "This section is responsible for setting up Google Drive"
      ],
      "metadata": {
        "id": "io8olYlW_m_L"
      }
    },
    {
      "cell_type": "code",
      "source": [
        "from google.colab import drive\n",
        "\n",
        "drive.mount('/content/drive')"
      ],
      "metadata": {
        "colab": {
          "base_uri": "https://localhost:8080/"
        },
        "id": "stbmlb8z_Try",
        "outputId": "aa60cebd-4cdc-4dbd-cf38-f8cd085ec655"
      },
      "execution_count": null,
      "outputs": [
        {
          "output_type": "stream",
          "name": "stdout",
          "text": [
            "Drive already mounted at /content/drive; to attempt to forcibly remount, call drive.mount(\"/content/drive\", force_remount=True).\n"
          ]
        }
      ]
    },
    {
      "cell_type": "code",
      "source": [
        "dados = spark.read.json(\n",
        "    '/content/drive/MyDrive/imoveis.json'\n",
        ")\n",
        "\n",
        "dados"
      ],
      "metadata": {
        "colab": {
          "base_uri": "https://localhost:8080/"
        },
        "id": "XeFVePu8_39G",
        "outputId": "ef6b2ff4-6dfd-415c-8ae5-4100abfdc3e9"
      },
      "execution_count": null,
      "outputs": [
        {
          "output_type": "execute_result",
          "data": {
            "text/plain": [
              "DataFrame[ident: struct<customerID:string,source:string>, listing: struct<address:struct<city:string,location:struct<lat:double,lon:double>,neighborhood:string,zone:string>,features:struct<bathrooms:bigint,bedrooms:bigint,floors:bigint,parkingSpaces:bigint,suites:bigint,totalAreas:string,unitFloor:bigint,unitsOnTheFloor:bigint,usableAreas:string>,prices:struct<price:string,tax:struct<condo:string,iptu:string>>,types:struct<unit:string,usage:string>>]"
            ]
          },
          "metadata": {},
          "execution_count": 88
        }
      ]
    },
    {
      "cell_type": "code",
      "source": [
        "dados.show(truncate=False)\n",
        "print(dados.count())"
      ],
      "metadata": {
        "colab": {
          "base_uri": "https://localhost:8080/"
        },
        "id": "4_L11nAmDmkf",
        "outputId": "67add76c-162a-4b4e-f4f9-4c0e3f9c19c8"
      },
      "execution_count": null,
      "outputs": [
        {
          "output_type": "stream",
          "name": "stdout",
          "text": [
            "+--------------------------+-----------------------------------------------------------------------------------------------------------------------------------------------------------------+\n",
            "|ident                     |listing                                                                                                                                                          |\n",
            "+--------------------------+-----------------------------------------------------------------------------------------------------------------------------------------------------------------+\n",
            "|{775564-BOJSMVON, Website}|{{Rio de Janeiro, {-22.909429, -43.413557}, Taquara, Zona Oeste}, {0, 0, 0, 1, 0, 62, 0, 0, 62}, {45000, {150, 0}}, {Outros, Residencial}}                       |\n",
            "|{660895-AUENKNYY, Website}|{{Rio de Janeiro, {-22.869698, -43.509141}, Santíssimo, Zona Oeste}, {1, 2, 0, 1, 0, 0, 0, 0, 44}, {45000, {120, 0}}, {Apartamento, Residencial}}                |\n",
            "|{751522-JESYFEQL, Website}|{{Rio de Janeiro, {-22.986927, -43.646786}, Pedra de Guaratiba, Zona Oeste}, {0, 0, 0, 0, 0, 132, 0, 0, 132}, {50000, {100, 0}}, {Outros, Residencial}}          |\n",
            "|{714052-GAAEWYKS, Website}|{{Rio de Janeiro, {-22.881977, -43.330818}, Cascadura, Zona Norte}, {1, 0, 0, 0, 0, 32, 3, 0, 32}, {45000, {468, 346}}, {Outros, Comercial}}                     |\n",
            "|{568886-ZIBFOMCC, Website}|{{Rio de Janeiro, {-23.027653, -43.480742}, Recreio dos Bandeirantes, Zona Oeste}, {2, 3, 3, 1, 1, 0, 2, 4, 60}, {50000, {400, 120}}, {Apartamento, Residencial}}|\n",
            "|{526755-OBLTYTEN, Website}|{{Rio de Janeiro, {-22.966059, -43.571183}, Guaratiba, Zona Oeste}, {0, 0, 0, 0, 0, 200, 0, 0, 200}, {50000, {0, null}}, {Outros, Residencial}}                  |\n",
            "|{593569-CJLMNFGW, Website}|{{Rio de Janeiro, {-22.939028, -43.3453}, Freguesia (Jacarepaguá), Zona Oeste}, {1, 0, 0, 0, 0, 25, 2, 0, 25}, {50000, {801, 211}}, {Outros, Comercial}}         |\n",
            "|{989181-RYJOLMCU, Website}|{{Rio de Janeiro, {-22.841509, -43.278855}, Penha, Zona Norte}, {1, 0, 0, 0, 0, 23, 0, 0, 23}, {50000, {230, null}}, {Outros, Comercial}}                        |\n",
            "|{145372-EZKAKSWM, Website}|{{Rio de Janeiro, {-22.835609, -43.392253}, Ricardo de Albuquerque, Zona Norte}, {0, 0, 0, 0, 0, 60, 0, 0, 60}, {45000, {null, null}}, {Outros, Comercial}}      |\n",
            "|{792086-NWNQTDYL, Website}|{{Rio de Janeiro, {-22.885306, -43.253044}, Jacarezinho, Zona Norte}, {1, 1, 0, 1, 0, 35, 0, 0, 33}, {45336, {0, 0}}, {Apartamento, Residencial}}                |\n",
            "|{339622-MNZGLKTZ, Website}|{{Rio de Janeiro, {-22.990425, -43.635505}, Guaratiba, Zona Oeste}, {0, 0, 0, 0, 0, 120, 0, 0, 120}, {45000, {0, 0}}, {Outros, Residencial}}                     |\n",
            "|{952338-SVULQMXR, Website}|{{Rio de Janeiro, {-22.877982, -43.651456}, Santa Cruz, Zona Oeste}, {0, 0, 0, 0, 0, 468, 0, 0, 468}, {45000, {0, 0}}, {Outros, Residencial}}                    |\n",
            "|{570439-LDICQOXZ, Website}|{{Rio de Janeiro, {-22.998183, -43.504337}, Vargem Grande, Zona Oeste}, {0, 0, 0, 0, 0, 180, 1, 0, 180}, {50000, {0, 0}}, {Outros, Residencial}}                 |\n",
            "|{684023-YTBNKLLO, Website}|{{Rio de Janeiro, {-22.843794, -43.512464}, Bangu, Zona Oeste}, {0, 0, 0, 0, 0, 128, 0, 0, 128}, {50000, {0, 0}}, {Outros, Residencial}}                         |\n",
            "|{629412-VKUMMAVR, Website}|{{Rio de Janeiro, {-22.91077, -43.37182}, Tanque, Zona Oeste}, {0, 0, 0, 0, 0, 82, 1, 0, 82}, {45000, {300, 0}}, {Outros, Residencial}}                          |\n",
            "|{041590-HMJIRKDX, Website}|{{Rio de Janeiro, {-22.910099, -43.17797}, Centro, Zona Central}, {0, 0, 0, 1, 0, 5, 0, 0, 5}, {45000, {0, 0}}, {Outros, Comercial}}                             |\n",
            "|{870098-XTRYJAGY, Website}|{{Rio de Janeiro, {-22.867219, -43.335067}, Madureira, Zona Norte}, {1, 0, 0, 0, 0, 350, 0, 0, 350}, {50000, {0, 1600}}, {Outros, Comercial}}                    |\n",
            "|{951104-MACIAPIS, Website}|{{Rio de Janeiro, {-22.897014, -43.201575}, Santo Cristo, Zona Central}, {2, 3, 20, 1, 1, 0, 20, 19, 70}, {45000, {350, 120}}, {Apartamento, Residencial}}       |\n",
            "|{375665-GHMFEZXX, Website}|{{Rio de Janeiro, {-22.902419, -43.20952}, Santo Cristo, Zona Central}, {2, 3, 20, 1, 1, 0, 20, 19, 70}, {50000, {350, 120}}, {Apartamento, Residencial}}        |\n",
            "|{441711-LRTWHRUA, Website}|{{Rio de Janeiro, {-22.989852, -43.623097}, Pedra de Guaratiba, Zona Oeste}, {1, 1, 0, 0, 0, 45, 2, 0, 37}, {50000, {0, 0}}, {Apartamento, Residencial}}         |\n",
            "+--------------------------+-----------------------------------------------------------------------------------------------------------------------------------------------------------------+\n",
            "only showing top 20 rows\n",
            "\n",
            "73615\n"
          ]
        }
      ]
    },
    {
      "cell_type": "markdown",
      "source": [
        "## Features\n",
        "\n",
        "In this section we will explore the data's features a bit more."
      ],
      "metadata": {
        "id": "YoqvtaYAJ-Gq"
      }
    },
    {
      "cell_type": "code",
      "source": [
        "dados.printSchema()"
      ],
      "metadata": {
        "colab": {
          "base_uri": "https://localhost:8080/"
        },
        "id": "uT_7ZEAfEYqo",
        "outputId": "96b7ea8f-d177-4981-b432-2529f3c52d13"
      },
      "execution_count": null,
      "outputs": [
        {
          "output_type": "stream",
          "name": "stdout",
          "text": [
            "root\n",
            " |-- ident: struct (nullable = true)\n",
            " |    |-- customerID: string (nullable = true)\n",
            " |    |-- source: string (nullable = true)\n",
            " |-- listing: struct (nullable = true)\n",
            " |    |-- address: struct (nullable = true)\n",
            " |    |    |-- city: string (nullable = true)\n",
            " |    |    |-- location: struct (nullable = true)\n",
            " |    |    |    |-- lat: double (nullable = true)\n",
            " |    |    |    |-- lon: double (nullable = true)\n",
            " |    |    |-- neighborhood: string (nullable = true)\n",
            " |    |    |-- zone: string (nullable = true)\n",
            " |    |-- features: struct (nullable = true)\n",
            " |    |    |-- bathrooms: long (nullable = true)\n",
            " |    |    |-- bedrooms: long (nullable = true)\n",
            " |    |    |-- floors: long (nullable = true)\n",
            " |    |    |-- parkingSpaces: long (nullable = true)\n",
            " |    |    |-- suites: long (nullable = true)\n",
            " |    |    |-- totalAreas: string (nullable = true)\n",
            " |    |    |-- unitFloor: long (nullable = true)\n",
            " |    |    |-- unitsOnTheFloor: long (nullable = true)\n",
            " |    |    |-- usableAreas: string (nullable = true)\n",
            " |    |-- prices: struct (nullable = true)\n",
            " |    |    |-- price: string (nullable = true)\n",
            " |    |    |-- tax: struct (nullable = true)\n",
            " |    |    |    |-- condo: string (nullable = true)\n",
            " |    |    |    |-- iptu: string (nullable = true)\n",
            " |    |-- types: struct (nullable = true)\n",
            " |    |    |-- unit: string (nullable = true)\n",
            " |    |    |-- usage: string (nullable = true)\n",
            "\n"
          ]
        }
      ]
    },
    {
      "cell_type": "code",
      "source": [
        "dados\\\n",
        "  .select('ident.customerID', 'listing.*')\\\n",
        "  .show(truncate=False)"
      ],
      "metadata": {
        "colab": {
          "base_uri": "https://localhost:8080/"
        },
        "id": "aXtKhmWBKHtO",
        "outputId": "1370b0ba-34b8-4d90-a7f5-4c0ef0a942a9"
      },
      "execution_count": null,
      "outputs": [
        {
          "output_type": "stream",
          "name": "stdout",
          "text": [
            "+---------------+--------------------------------------------------------------------------------+-------------------------------+---------------------+--------------------------+\n",
            "|customerID     |address                                                                         |features                       |prices               |types                     |\n",
            "+---------------+--------------------------------------------------------------------------------+-------------------------------+---------------------+--------------------------+\n",
            "|775564-BOJSMVON|{Rio de Janeiro, {-22.909429, -43.413557}, Taquara, Zona Oeste}                 |{0, 0, 0, 1, 0, 62, 0, 0, 62}  |{45000, {150, 0}}    |{Outros, Residencial}     |\n",
            "|660895-AUENKNYY|{Rio de Janeiro, {-22.869698, -43.509141}, Santíssimo, Zona Oeste}              |{1, 2, 0, 1, 0, 0, 0, 0, 44}   |{45000, {120, 0}}    |{Apartamento, Residencial}|\n",
            "|751522-JESYFEQL|{Rio de Janeiro, {-22.986927, -43.646786}, Pedra de Guaratiba, Zona Oeste}      |{0, 0, 0, 0, 0, 132, 0, 0, 132}|{50000, {100, 0}}    |{Outros, Residencial}     |\n",
            "|714052-GAAEWYKS|{Rio de Janeiro, {-22.881977, -43.330818}, Cascadura, Zona Norte}               |{1, 0, 0, 0, 0, 32, 3, 0, 32}  |{45000, {468, 346}}  |{Outros, Comercial}       |\n",
            "|568886-ZIBFOMCC|{Rio de Janeiro, {-23.027653, -43.480742}, Recreio dos Bandeirantes, Zona Oeste}|{2, 3, 3, 1, 1, 0, 2, 4, 60}   |{50000, {400, 120}}  |{Apartamento, Residencial}|\n",
            "|526755-OBLTYTEN|{Rio de Janeiro, {-22.966059, -43.571183}, Guaratiba, Zona Oeste}               |{0, 0, 0, 0, 0, 200, 0, 0, 200}|{50000, {0, null}}   |{Outros, Residencial}     |\n",
            "|593569-CJLMNFGW|{Rio de Janeiro, {-22.939028, -43.3453}, Freguesia (Jacarepaguá), Zona Oeste}   |{1, 0, 0, 0, 0, 25, 2, 0, 25}  |{50000, {801, 211}}  |{Outros, Comercial}       |\n",
            "|989181-RYJOLMCU|{Rio de Janeiro, {-22.841509, -43.278855}, Penha, Zona Norte}                   |{1, 0, 0, 0, 0, 23, 0, 0, 23}  |{50000, {230, null}} |{Outros, Comercial}       |\n",
            "|145372-EZKAKSWM|{Rio de Janeiro, {-22.835609, -43.392253}, Ricardo de Albuquerque, Zona Norte}  |{0, 0, 0, 0, 0, 60, 0, 0, 60}  |{45000, {null, null}}|{Outros, Comercial}       |\n",
            "|792086-NWNQTDYL|{Rio de Janeiro, {-22.885306, -43.253044}, Jacarezinho, Zona Norte}             |{1, 1, 0, 1, 0, 35, 0, 0, 33}  |{45336, {0, 0}}      |{Apartamento, Residencial}|\n",
            "|339622-MNZGLKTZ|{Rio de Janeiro, {-22.990425, -43.635505}, Guaratiba, Zona Oeste}               |{0, 0, 0, 0, 0, 120, 0, 0, 120}|{45000, {0, 0}}      |{Outros, Residencial}     |\n",
            "|952338-SVULQMXR|{Rio de Janeiro, {-22.877982, -43.651456}, Santa Cruz, Zona Oeste}              |{0, 0, 0, 0, 0, 468, 0, 0, 468}|{45000, {0, 0}}      |{Outros, Residencial}     |\n",
            "|570439-LDICQOXZ|{Rio de Janeiro, {-22.998183, -43.504337}, Vargem Grande, Zona Oeste}           |{0, 0, 0, 0, 0, 180, 1, 0, 180}|{50000, {0, 0}}      |{Outros, Residencial}     |\n",
            "|684023-YTBNKLLO|{Rio de Janeiro, {-22.843794, -43.512464}, Bangu, Zona Oeste}                   |{0, 0, 0, 0, 0, 128, 0, 0, 128}|{50000, {0, 0}}      |{Outros, Residencial}     |\n",
            "|629412-VKUMMAVR|{Rio de Janeiro, {-22.91077, -43.37182}, Tanque, Zona Oeste}                    |{0, 0, 0, 0, 0, 82, 1, 0, 82}  |{45000, {300, 0}}    |{Outros, Residencial}     |\n",
            "|041590-HMJIRKDX|{Rio de Janeiro, {-22.910099, -43.17797}, Centro, Zona Central}                 |{0, 0, 0, 1, 0, 5, 0, 0, 5}    |{45000, {0, 0}}      |{Outros, Comercial}       |\n",
            "|870098-XTRYJAGY|{Rio de Janeiro, {-22.867219, -43.335067}, Madureira, Zona Norte}               |{1, 0, 0, 0, 0, 350, 0, 0, 350}|{50000, {0, 1600}}   |{Outros, Comercial}       |\n",
            "|951104-MACIAPIS|{Rio de Janeiro, {-22.897014, -43.201575}, Santo Cristo, Zona Central}          |{2, 3, 20, 1, 1, 0, 20, 19, 70}|{45000, {350, 120}}  |{Apartamento, Residencial}|\n",
            "|375665-GHMFEZXX|{Rio de Janeiro, {-22.902419, -43.20952}, Santo Cristo, Zona Central}           |{2, 3, 20, 1, 1, 0, 20, 19, 70}|{50000, {350, 120}}  |{Apartamento, Residencial}|\n",
            "|441711-LRTWHRUA|{Rio de Janeiro, {-22.989852, -43.623097}, Pedra de Guaratiba, Zona Oeste}      |{1, 1, 0, 0, 0, 45, 2, 0, 37}  |{50000, {0, 0}}      |{Apartamento, Residencial}|\n",
            "+---------------+--------------------------------------------------------------------------------+-------------------------------+---------------------+--------------------------+\n",
            "only showing top 20 rows\n",
            "\n"
          ]
        }
      ]
    },
    {
      "cell_type": "code",
      "source": [
        "dados\\\n",
        "  .select(\n",
        "      'ident.customerID',\n",
        "      'listing.types.*', \n",
        "      'listing.features.*',\n",
        "      'listing.address.*',\n",
        "      'listing.prices.price',\n",
        "      'listing.prices.tax.*',\n",
        "  )\\\n",
        "  .show(truncate=False)"
      ],
      "metadata": {
        "colab": {
          "base_uri": "https://localhost:8080/"
        },
        "id": "irGIJLP7M5Bg",
        "outputId": "ba42fc96-8365-4a2a-930e-e0ebfd2c0547"
      },
      "execution_count": null,
      "outputs": [
        {
          "output_type": "stream",
          "name": "stdout",
          "text": [
            "+---------------+-----------+-----------+---------+--------+------+-------------+------+----------+---------+---------------+-----------+--------------+------------------------+------------------------+------------+-----+-----+----+\n",
            "|customerID     |unit       |usage      |bathrooms|bedrooms|floors|parkingSpaces|suites|totalAreas|unitFloor|unitsOnTheFloor|usableAreas|city          |location                |neighborhood            |zone        |price|condo|iptu|\n",
            "+---------------+-----------+-----------+---------+--------+------+-------------+------+----------+---------+---------------+-----------+--------------+------------------------+------------------------+------------+-----+-----+----+\n",
            "|775564-BOJSMVON|Outros     |Residencial|0        |0       |0     |1            |0     |62        |0        |0              |62         |Rio de Janeiro|{-22.909429, -43.413557}|Taquara                 |Zona Oeste  |45000|150  |0   |\n",
            "|660895-AUENKNYY|Apartamento|Residencial|1        |2       |0     |1            |0     |0         |0        |0              |44         |Rio de Janeiro|{-22.869698, -43.509141}|Santíssimo              |Zona Oeste  |45000|120  |0   |\n",
            "|751522-JESYFEQL|Outros     |Residencial|0        |0       |0     |0            |0     |132       |0        |0              |132        |Rio de Janeiro|{-22.986927, -43.646786}|Pedra de Guaratiba      |Zona Oeste  |50000|100  |0   |\n",
            "|714052-GAAEWYKS|Outros     |Comercial  |1        |0       |0     |0            |0     |32        |3        |0              |32         |Rio de Janeiro|{-22.881977, -43.330818}|Cascadura               |Zona Norte  |45000|468  |346 |\n",
            "|568886-ZIBFOMCC|Apartamento|Residencial|2        |3       |3     |1            |1     |0         |2        |4              |60         |Rio de Janeiro|{-23.027653, -43.480742}|Recreio dos Bandeirantes|Zona Oeste  |50000|400  |120 |\n",
            "|526755-OBLTYTEN|Outros     |Residencial|0        |0       |0     |0            |0     |200       |0        |0              |200        |Rio de Janeiro|{-22.966059, -43.571183}|Guaratiba               |Zona Oeste  |50000|0    |null|\n",
            "|593569-CJLMNFGW|Outros     |Comercial  |1        |0       |0     |0            |0     |25        |2        |0              |25         |Rio de Janeiro|{-22.939028, -43.3453}  |Freguesia (Jacarepaguá) |Zona Oeste  |50000|801  |211 |\n",
            "|989181-RYJOLMCU|Outros     |Comercial  |1        |0       |0     |0            |0     |23        |0        |0              |23         |Rio de Janeiro|{-22.841509, -43.278855}|Penha                   |Zona Norte  |50000|230  |null|\n",
            "|145372-EZKAKSWM|Outros     |Comercial  |0        |0       |0     |0            |0     |60        |0        |0              |60         |Rio de Janeiro|{-22.835609, -43.392253}|Ricardo de Albuquerque  |Zona Norte  |45000|null |null|\n",
            "|792086-NWNQTDYL|Apartamento|Residencial|1        |1       |0     |1            |0     |35        |0        |0              |33         |Rio de Janeiro|{-22.885306, -43.253044}|Jacarezinho             |Zona Norte  |45336|0    |0   |\n",
            "|339622-MNZGLKTZ|Outros     |Residencial|0        |0       |0     |0            |0     |120       |0        |0              |120        |Rio de Janeiro|{-22.990425, -43.635505}|Guaratiba               |Zona Oeste  |45000|0    |0   |\n",
            "|952338-SVULQMXR|Outros     |Residencial|0        |0       |0     |0            |0     |468       |0        |0              |468        |Rio de Janeiro|{-22.877982, -43.651456}|Santa Cruz              |Zona Oeste  |45000|0    |0   |\n",
            "|570439-LDICQOXZ|Outros     |Residencial|0        |0       |0     |0            |0     |180       |1        |0              |180        |Rio de Janeiro|{-22.998183, -43.504337}|Vargem Grande           |Zona Oeste  |50000|0    |0   |\n",
            "|684023-YTBNKLLO|Outros     |Residencial|0        |0       |0     |0            |0     |128       |0        |0              |128        |Rio de Janeiro|{-22.843794, -43.512464}|Bangu                   |Zona Oeste  |50000|0    |0   |\n",
            "|629412-VKUMMAVR|Outros     |Residencial|0        |0       |0     |0            |0     |82        |1        |0              |82         |Rio de Janeiro|{-22.91077, -43.37182}  |Tanque                  |Zona Oeste  |45000|300  |0   |\n",
            "|041590-HMJIRKDX|Outros     |Comercial  |0        |0       |0     |1            |0     |5         |0        |0              |5          |Rio de Janeiro|{-22.910099, -43.17797} |Centro                  |Zona Central|45000|0    |0   |\n",
            "|870098-XTRYJAGY|Outros     |Comercial  |1        |0       |0     |0            |0     |350       |0        |0              |350        |Rio de Janeiro|{-22.867219, -43.335067}|Madureira               |Zona Norte  |50000|0    |1600|\n",
            "|951104-MACIAPIS|Apartamento|Residencial|2        |3       |20    |1            |1     |0         |20       |19             |70         |Rio de Janeiro|{-22.897014, -43.201575}|Santo Cristo            |Zona Central|45000|350  |120 |\n",
            "|375665-GHMFEZXX|Apartamento|Residencial|2        |3       |20    |1            |1     |0         |20       |19             |70         |Rio de Janeiro|{-22.902419, -43.20952} |Santo Cristo            |Zona Central|50000|350  |120 |\n",
            "|441711-LRTWHRUA|Apartamento|Residencial|1        |1       |0     |0            |0     |45        |2        |0              |37         |Rio de Janeiro|{-22.989852, -43.623097}|Pedra de Guaratiba      |Zona Oeste  |50000|0    |0   |\n",
            "+---------------+-----------+-----------+---------+--------+------+-------------+------+----------+---------+---------------+-----------+--------------+------------------------+------------------------+------------+-----+-----+----+\n",
            "only showing top 20 rows\n",
            "\n"
          ]
        }
      ]
    },
    {
      "cell_type": "code",
      "source": [
        "dados\\\n",
        "  .select(\n",
        "      'ident.customerID',\n",
        "      'listing.types.*', \n",
        "      'listing.features.*',\n",
        "      'listing.address.*',\n",
        "      'listing.prices.price',\n",
        "      'listing.prices.tax.*'\n",
        "  )\\\n",
        "  .drop('city', 'location', 'totalAreas')\\\n",
        "  .show(truncate=False)"
      ],
      "metadata": {
        "colab": {
          "base_uri": "https://localhost:8080/"
        },
        "id": "WbGslIHKOS_I",
        "outputId": "81e12bfc-f641-46de-cae3-2e779df92abc"
      },
      "execution_count": null,
      "outputs": [
        {
          "output_type": "stream",
          "name": "stdout",
          "text": [
            "+---------------+-----------+-----------+---------+--------+------+-------------+------+---------+---------------+-----------+------------------------+------------+-----+-----+----+\n",
            "|customerID     |unit       |usage      |bathrooms|bedrooms|floors|parkingSpaces|suites|unitFloor|unitsOnTheFloor|usableAreas|neighborhood            |zone        |price|condo|iptu|\n",
            "+---------------+-----------+-----------+---------+--------+------+-------------+------+---------+---------------+-----------+------------------------+------------+-----+-----+----+\n",
            "|775564-BOJSMVON|Outros     |Residencial|0        |0       |0     |1            |0     |0        |0              |62         |Taquara                 |Zona Oeste  |45000|150  |0   |\n",
            "|660895-AUENKNYY|Apartamento|Residencial|1        |2       |0     |1            |0     |0        |0              |44         |Santíssimo              |Zona Oeste  |45000|120  |0   |\n",
            "|751522-JESYFEQL|Outros     |Residencial|0        |0       |0     |0            |0     |0        |0              |132        |Pedra de Guaratiba      |Zona Oeste  |50000|100  |0   |\n",
            "|714052-GAAEWYKS|Outros     |Comercial  |1        |0       |0     |0            |0     |3        |0              |32         |Cascadura               |Zona Norte  |45000|468  |346 |\n",
            "|568886-ZIBFOMCC|Apartamento|Residencial|2        |3       |3     |1            |1     |2        |4              |60         |Recreio dos Bandeirantes|Zona Oeste  |50000|400  |120 |\n",
            "|526755-OBLTYTEN|Outros     |Residencial|0        |0       |0     |0            |0     |0        |0              |200        |Guaratiba               |Zona Oeste  |50000|0    |null|\n",
            "|593569-CJLMNFGW|Outros     |Comercial  |1        |0       |0     |0            |0     |2        |0              |25         |Freguesia (Jacarepaguá) |Zona Oeste  |50000|801  |211 |\n",
            "|989181-RYJOLMCU|Outros     |Comercial  |1        |0       |0     |0            |0     |0        |0              |23         |Penha                   |Zona Norte  |50000|230  |null|\n",
            "|145372-EZKAKSWM|Outros     |Comercial  |0        |0       |0     |0            |0     |0        |0              |60         |Ricardo de Albuquerque  |Zona Norte  |45000|null |null|\n",
            "|792086-NWNQTDYL|Apartamento|Residencial|1        |1       |0     |1            |0     |0        |0              |33         |Jacarezinho             |Zona Norte  |45336|0    |0   |\n",
            "|339622-MNZGLKTZ|Outros     |Residencial|0        |0       |0     |0            |0     |0        |0              |120        |Guaratiba               |Zona Oeste  |45000|0    |0   |\n",
            "|952338-SVULQMXR|Outros     |Residencial|0        |0       |0     |0            |0     |0        |0              |468        |Santa Cruz              |Zona Oeste  |45000|0    |0   |\n",
            "|570439-LDICQOXZ|Outros     |Residencial|0        |0       |0     |0            |0     |1        |0              |180        |Vargem Grande           |Zona Oeste  |50000|0    |0   |\n",
            "|684023-YTBNKLLO|Outros     |Residencial|0        |0       |0     |0            |0     |0        |0              |128        |Bangu                   |Zona Oeste  |50000|0    |0   |\n",
            "|629412-VKUMMAVR|Outros     |Residencial|0        |0       |0     |0            |0     |1        |0              |82         |Tanque                  |Zona Oeste  |45000|300  |0   |\n",
            "|041590-HMJIRKDX|Outros     |Comercial  |0        |0       |0     |1            |0     |0        |0              |5          |Centro                  |Zona Central|45000|0    |0   |\n",
            "|870098-XTRYJAGY|Outros     |Comercial  |1        |0       |0     |0            |0     |0        |0              |350        |Madureira               |Zona Norte  |50000|0    |1600|\n",
            "|951104-MACIAPIS|Apartamento|Residencial|2        |3       |20    |1            |1     |20       |19             |70         |Santo Cristo            |Zona Central|45000|350  |120 |\n",
            "|375665-GHMFEZXX|Apartamento|Residencial|2        |3       |20    |1            |1     |20       |19             |70         |Santo Cristo            |Zona Central|50000|350  |120 |\n",
            "|441711-LRTWHRUA|Apartamento|Residencial|1        |1       |0     |0            |0     |2        |0              |37         |Pedra de Guaratiba      |Zona Oeste  |50000|0    |0   |\n",
            "+---------------+-----------+-----------+---------+--------+------+-------------+------+---------+---------------+-----------+------------------------+------------+-----+-----+----+\n",
            "only showing top 20 rows\n",
            "\n"
          ]
        }
      ]
    },
    {
      "cell_type": "code",
      "source": [
        "dataset= dados\\\n",
        "          .select('ident.customerID',\n",
        "                  'listing.types.*', \n",
        "                  'listing.features.*',\n",
        "                  'listing.address.*',\n",
        "                  'listing.prices.price',\n",
        "                  'listing.prices.tax.*')\\\n",
        "          .drop('city', 'location', 'totalAreas')"
      ],
      "metadata": {
        "id": "CjcrUblqQZLA"
      },
      "execution_count": null,
      "outputs": []
    },
    {
      "cell_type": "markdown",
      "source": [
        "## Data Treatment\n",
        "\n",
        "In this section we will treat data by filling any null or NaN values and casting incorrect variable types"
      ],
      "metadata": {
        "id": "aANjZR6qWTl-"
      }
    },
    {
      "cell_type": "code",
      "source": [
        "dataset.printSchema()"
      ],
      "metadata": {
        "colab": {
          "base_uri": "https://localhost:8080/"
        },
        "id": "AcURYjHORKMh",
        "outputId": "78ab77f9-196f-4e2c-c68f-fbadd84a601e"
      },
      "execution_count": null,
      "outputs": [
        {
          "output_type": "stream",
          "name": "stdout",
          "text": [
            "root\n",
            " |-- customerID: string (nullable = true)\n",
            " |-- unit: string (nullable = true)\n",
            " |-- usage: string (nullable = true)\n",
            " |-- bathrooms: long (nullable = true)\n",
            " |-- bedrooms: long (nullable = true)\n",
            " |-- floors: long (nullable = true)\n",
            " |-- parkingSpaces: long (nullable = true)\n",
            " |-- suites: long (nullable = true)\n",
            " |-- unitFloor: long (nullable = true)\n",
            " |-- unitsOnTheFloor: long (nullable = true)\n",
            " |-- usableAreas: string (nullable = true)\n",
            " |-- neighborhood: string (nullable = true)\n",
            " |-- zone: string (nullable = true)\n",
            " |-- price: string (nullable = true)\n",
            " |-- condo: string (nullable = true)\n",
            " |-- iptu: string (nullable = true)\n",
            "\n"
          ]
        }
      ]
    },
    {
      "cell_type": "code",
      "source": [
        "from pyspark.sql.types import IntegerType, DoubleType"
      ],
      "metadata": {
        "id": "FBxmugjvW4Oj"
      },
      "execution_count": null,
      "outputs": []
    },
    {
      "cell_type": "code",
      "source": [
        "dataset\\\n",
        "    .withColumn('usableAreas', dataset['usableAreas'].cast(IntegerType()))\\\n",
        "    .withColumn('price', dataset['price'].cast(DoubleType()))\\\n",
        "    .withColumn('condo', dataset['condo'].cast(DoubleType()))\\\n",
        "    .withColumn('iptu', dataset['iptu'].cast(DoubleType()))\\\n",
        "    .printSchema()"
      ],
      "metadata": {
        "colab": {
          "base_uri": "https://localhost:8080/"
        },
        "id": "bW_3Bac9Yx-1",
        "outputId": "590deb92-081a-4db7-cddd-faeddf78468b"
      },
      "execution_count": null,
      "outputs": [
        {
          "output_type": "stream",
          "name": "stdout",
          "text": [
            "root\n",
            " |-- customerID: string (nullable = true)\n",
            " |-- unit: string (nullable = true)\n",
            " |-- usage: string (nullable = true)\n",
            " |-- bathrooms: long (nullable = true)\n",
            " |-- bedrooms: long (nullable = true)\n",
            " |-- floors: long (nullable = true)\n",
            " |-- parkingSpaces: long (nullable = true)\n",
            " |-- suites: long (nullable = true)\n",
            " |-- unitFloor: long (nullable = true)\n",
            " |-- unitsOnTheFloor: long (nullable = true)\n",
            " |-- usableAreas: integer (nullable = true)\n",
            " |-- neighborhood: string (nullable = true)\n",
            " |-- zone: string (nullable = true)\n",
            " |-- price: double (nullable = true)\n",
            " |-- condo: double (nullable = true)\n",
            " |-- iptu: double (nullable = true)\n",
            "\n"
          ]
        }
      ]
    },
    {
      "cell_type": "code",
      "source": [
        " dataset = dataset\\\n",
        "    .withColumn('usableAreas', dataset['usableAreas'].cast(IntegerType()))\\\n",
        "    .withColumn('price', dataset['price'].cast(DoubleType()))\\\n",
        "    .withColumn('condo', dataset['condo'].cast(DoubleType()))\\\n",
        "    .withColumn('iptu', dataset['iptu'].cast(DoubleType()))"
      ],
      "metadata": {
        "id": "by3yJzI6Zc2E"
      },
      "execution_count": null,
      "outputs": []
    },
    {
      "cell_type": "code",
      "source": [
        "dataset.show()"
      ],
      "metadata": {
        "colab": {
          "base_uri": "https://localhost:8080/"
        },
        "id": "hxejgL3EcYIx",
        "outputId": "f133d5b3-b12b-40eb-962b-26fdf1743560"
      },
      "execution_count": null,
      "outputs": [
        {
          "output_type": "stream",
          "name": "stdout",
          "text": [
            "+---------------+-----------+-----------+---------+--------+------+-------------+------+---------+---------------+-----------+--------------------+------------+-------+-----+------+\n",
            "|     customerID|       unit|      usage|bathrooms|bedrooms|floors|parkingSpaces|suites|unitFloor|unitsOnTheFloor|usableAreas|        neighborhood|        zone|  price|condo|  iptu|\n",
            "+---------------+-----------+-----------+---------+--------+------+-------------+------+---------+---------------+-----------+--------------------+------------+-------+-----+------+\n",
            "|775564-BOJSMVON|     Outros|Residencial|        0|       0|     0|            1|     0|        0|              0|         62|             Taquara|  Zona Oeste|45000.0|150.0|   0.0|\n",
            "|660895-AUENKNYY|Apartamento|Residencial|        1|       2|     0|            1|     0|        0|              0|         44|          Santíssimo|  Zona Oeste|45000.0|120.0|   0.0|\n",
            "|751522-JESYFEQL|     Outros|Residencial|        0|       0|     0|            0|     0|        0|              0|        132|  Pedra de Guaratiba|  Zona Oeste|50000.0|100.0|   0.0|\n",
            "|714052-GAAEWYKS|     Outros|  Comercial|        1|       0|     0|            0|     0|        3|              0|         32|           Cascadura|  Zona Norte|45000.0|468.0| 346.0|\n",
            "|568886-ZIBFOMCC|Apartamento|Residencial|        2|       3|     3|            1|     1|        2|              4|         60|Recreio dos Bande...|  Zona Oeste|50000.0|400.0| 120.0|\n",
            "|526755-OBLTYTEN|     Outros|Residencial|        0|       0|     0|            0|     0|        0|              0|        200|           Guaratiba|  Zona Oeste|50000.0|  0.0|  null|\n",
            "|593569-CJLMNFGW|     Outros|  Comercial|        1|       0|     0|            0|     0|        2|              0|         25|Freguesia (Jacare...|  Zona Oeste|50000.0|801.0| 211.0|\n",
            "|989181-RYJOLMCU|     Outros|  Comercial|        1|       0|     0|            0|     0|        0|              0|         23|               Penha|  Zona Norte|50000.0|230.0|  null|\n",
            "|145372-EZKAKSWM|     Outros|  Comercial|        0|       0|     0|            0|     0|        0|              0|         60|Ricardo de Albuqu...|  Zona Norte|45000.0| null|  null|\n",
            "|792086-NWNQTDYL|Apartamento|Residencial|        1|       1|     0|            1|     0|        0|              0|         33|         Jacarezinho|  Zona Norte|45336.0|  0.0|   0.0|\n",
            "|339622-MNZGLKTZ|     Outros|Residencial|        0|       0|     0|            0|     0|        0|              0|        120|           Guaratiba|  Zona Oeste|45000.0|  0.0|   0.0|\n",
            "|952338-SVULQMXR|     Outros|Residencial|        0|       0|     0|            0|     0|        0|              0|        468|          Santa Cruz|  Zona Oeste|45000.0|  0.0|   0.0|\n",
            "|570439-LDICQOXZ|     Outros|Residencial|        0|       0|     0|            0|     0|        1|              0|        180|       Vargem Grande|  Zona Oeste|50000.0|  0.0|   0.0|\n",
            "|684023-YTBNKLLO|     Outros|Residencial|        0|       0|     0|            0|     0|        0|              0|        128|               Bangu|  Zona Oeste|50000.0|  0.0|   0.0|\n",
            "|629412-VKUMMAVR|     Outros|Residencial|        0|       0|     0|            0|     0|        1|              0|         82|              Tanque|  Zona Oeste|45000.0|300.0|   0.0|\n",
            "|041590-HMJIRKDX|     Outros|  Comercial|        0|       0|     0|            1|     0|        0|              0|          5|              Centro|Zona Central|45000.0|  0.0|   0.0|\n",
            "|870098-XTRYJAGY|     Outros|  Comercial|        1|       0|     0|            0|     0|        0|              0|        350|           Madureira|  Zona Norte|50000.0|  0.0|1600.0|\n",
            "|951104-MACIAPIS|Apartamento|Residencial|        2|       3|    20|            1|     1|       20|             19|         70|        Santo Cristo|Zona Central|45000.0|350.0| 120.0|\n",
            "|375665-GHMFEZXX|Apartamento|Residencial|        2|       3|    20|            1|     1|       20|             19|         70|        Santo Cristo|Zona Central|50000.0|350.0| 120.0|\n",
            "|441711-LRTWHRUA|Apartamento|Residencial|        1|       1|     0|            0|     0|        2|              0|         37|  Pedra de Guaratiba|  Zona Oeste|50000.0|  0.0|   0.0|\n",
            "+---------------+-----------+-----------+---------+--------+------+-------------+------+---------+---------------+-----------+--------------------+------------+-------+-----+------+\n",
            "only showing top 20 rows\n",
            "\n"
          ]
        }
      ]
    },
    {
      "cell_type": "code",
      "source": [
        "dataset.select('usage').groupBy('usage').count().show()"
      ],
      "metadata": {
        "colab": {
          "base_uri": "https://localhost:8080/"
        },
        "id": "MYsUyQI1R7Q8",
        "outputId": "fda1ea57-e12c-4d5e-a450-ff91fba30bc8"
      },
      "execution_count": null,
      "outputs": [
        {
          "output_type": "stream",
          "name": "stdout",
          "text": [
            "+-----------+-----+\n",
            "|      usage|count|\n",
            "+-----------+-----+\n",
            "|  Comercial| 4019|\n",
            "|Residencial|69596|\n",
            "+-----------+-----+\n",
            "\n"
          ]
        }
      ]
    },
    {
      "cell_type": "code",
      "source": [
        "dataset = dataset.select('*').where('usage==\"Residencial\"')"
      ],
      "metadata": {
        "id": "mFLBZqMWTS1f"
      },
      "execution_count": null,
      "outputs": []
    },
    {
      "cell_type": "code",
      "source": [
        "dataset.select('unit').groupBy('unit').count().show()"
      ],
      "metadata": {
        "colab": {
          "base_uri": "https://localhost:8080/"
        },
        "id": "yzWnZ-5iUi-J",
        "outputId": "3173fa50-b7d3-41b7-f92d-b875e50d27b2"
      },
      "execution_count": null,
      "outputs": [
        {
          "output_type": "stream",
          "name": "stdout",
          "text": [
            "+-----------+-----+\n",
            "|       unit|count|\n",
            "+-----------+-----+\n",
            "|     Outros| 1190|\n",
            "|Apartamento|59106|\n",
            "|       Casa| 9300|\n",
            "+-----------+-----+\n",
            "\n"
          ]
        }
      ]
    },
    {
      "cell_type": "code",
      "source": [
        "dataset.select('zone').groupBy('zone').count().show()"
      ],
      "metadata": {
        "colab": {
          "base_uri": "https://localhost:8080/"
        },
        "id": "UkK_xWNeUyMJ",
        "outputId": "8d62f7b4-31be-41e9-8ebe-35eb9240edb1"
      },
      "execution_count": null,
      "outputs": [
        {
          "output_type": "stream",
          "name": "stdout",
          "text": [
            "+------------+-----+\n",
            "|        zone|count|\n",
            "+------------+-----+\n",
            "|  Zona Norte|14379|\n",
            "|  Zona Oeste|35523|\n",
            "|Zona Central| 1002|\n",
            "|    Zona Sul|18535|\n",
            "|            |  157|\n",
            "+------------+-----+\n",
            "\n"
          ]
        }
      ]
    },
    {
      "cell_type": "markdown",
      "source": [
        "## Missing Data\n",
        "\n",
        "In this section we will work with missing data"
      ],
      "metadata": {
        "id": "jnDUiRLdlxP-"
      }
    },
    {
      "cell_type": "code",
      "source": [
        "from pyspark.sql import functions as f"
      ],
      "metadata": {
        "id": "p8nmYcA1ft7X"
      },
      "execution_count": null,
      "outputs": []
    },
    {
      "cell_type": "code",
      "source": [
        "dataset.show()"
      ],
      "metadata": {
        "colab": {
          "base_uri": "https://localhost:8080/"
        },
        "id": "eBkX2-nImLTq",
        "outputId": "1ee959d0-2a94-4969-d1e1-1a56ac181b8a"
      },
      "execution_count": null,
      "outputs": [
        {
          "output_type": "stream",
          "name": "stdout",
          "text": [
            "+---------------+-----------+-----------+---------+--------+------+-------------+------+---------+---------------+-----------+--------------------+------------+-------+-----+-----+\n",
            "|     customerID|       unit|      usage|bathrooms|bedrooms|floors|parkingSpaces|suites|unitFloor|unitsOnTheFloor|usableAreas|        neighborhood|        zone|  price|condo| iptu|\n",
            "+---------------+-----------+-----------+---------+--------+------+-------------+------+---------+---------------+-----------+--------------------+------------+-------+-----+-----+\n",
            "|775564-BOJSMVON|     Outros|Residencial|        0|       0|     0|            1|     0|        0|              0|         62|             Taquara|  Zona Oeste|45000.0|150.0|  0.0|\n",
            "|660895-AUENKNYY|Apartamento|Residencial|        1|       2|     0|            1|     0|        0|              0|         44|          Santíssimo|  Zona Oeste|45000.0|120.0|  0.0|\n",
            "|751522-JESYFEQL|     Outros|Residencial|        0|       0|     0|            0|     0|        0|              0|        132|  Pedra de Guaratiba|  Zona Oeste|50000.0|100.0|  0.0|\n",
            "|568886-ZIBFOMCC|Apartamento|Residencial|        2|       3|     3|            1|     1|        2|              4|         60|Recreio dos Bande...|  Zona Oeste|50000.0|400.0|120.0|\n",
            "|526755-OBLTYTEN|     Outros|Residencial|        0|       0|     0|            0|     0|        0|              0|        200|           Guaratiba|  Zona Oeste|50000.0|  0.0| null|\n",
            "|792086-NWNQTDYL|Apartamento|Residencial|        1|       1|     0|            1|     0|        0|              0|         33|         Jacarezinho|  Zona Norte|45336.0|  0.0|  0.0|\n",
            "|339622-MNZGLKTZ|     Outros|Residencial|        0|       0|     0|            0|     0|        0|              0|        120|           Guaratiba|  Zona Oeste|45000.0|  0.0|  0.0|\n",
            "|952338-SVULQMXR|     Outros|Residencial|        0|       0|     0|            0|     0|        0|              0|        468|          Santa Cruz|  Zona Oeste|45000.0|  0.0|  0.0|\n",
            "|570439-LDICQOXZ|     Outros|Residencial|        0|       0|     0|            0|     0|        1|              0|        180|       Vargem Grande|  Zona Oeste|50000.0|  0.0|  0.0|\n",
            "|684023-YTBNKLLO|     Outros|Residencial|        0|       0|     0|            0|     0|        0|              0|        128|               Bangu|  Zona Oeste|50000.0|  0.0|  0.0|\n",
            "|629412-VKUMMAVR|     Outros|Residencial|        0|       0|     0|            0|     0|        1|              0|         82|              Tanque|  Zona Oeste|45000.0|300.0|  0.0|\n",
            "|951104-MACIAPIS|Apartamento|Residencial|        2|       3|    20|            1|     1|       20|             19|         70|        Santo Cristo|Zona Central|45000.0|350.0|120.0|\n",
            "|375665-GHMFEZXX|Apartamento|Residencial|        2|       3|    20|            1|     1|       20|             19|         70|        Santo Cristo|Zona Central|50000.0|350.0|120.0|\n",
            "|441711-LRTWHRUA|Apartamento|Residencial|        1|       1|     0|            0|     0|        2|              0|         37|  Pedra de Guaratiba|  Zona Oeste|50000.0|  0.0|  0.0|\n",
            "|221946-ENAQETGD|     Outros|Residencial|        0|       0|     0|            0|     0|        0|              0|        120|           Guaratiba|  Zona Oeste|45020.0|  0.0|  0.0|\n",
            "|023787-PTASXXTL|     Outros|Residencial|        0|       0|     0|            0|     0|        0|              0|        120|           Guaratiba|  Zona Oeste|45040.0|  0.0|  0.0|\n",
            "|385687-SWOBLUWG|     Outros|Residencial|        0|       0|     0|            0|     0|        0|              0|        150|          Santa Cruz|  Zona Oeste|45000.0|  0.0|  0.0|\n",
            "|037953-VZOABKON|Apartamento|Residencial|        1|       2|     0|            1|     0|        0|              0|         30|         Coelho Neto|  Zona Norte|45000.0| null|  0.0|\n",
            "|913561-GIAMXOYU|     Outros|Residencial|        0|       0|     0|            0|     0|        0|              0|        128|           Guaratiba|  Zona Oeste|45000.0|  0.0|  0.0|\n",
            "|511928-EYKXPKBU|     Outros|Residencial|        0|       0|     0|            0|     0|        0|              0|        120|           Guaratiba|  Zona Oeste|45070.0|  0.0|  0.0|\n",
            "+---------------+-----------+-----------+---------+--------+------+-------------+------+---------+---------------+-----------+--------------------+------------+-------+-----+-----+\n",
            "only showing top 20 rows\n",
            "\n"
          ]
        }
      ]
    },
    {
      "cell_type": "code",
      "source": [
        "dataset.select([f.count(f.when(f.isnan(c)| f.isnull(c), True)).alias(c) for c in dataset.columns]).show()"
      ],
      "metadata": {
        "colab": {
          "base_uri": "https://localhost:8080/"
        },
        "id": "0JO4KIdTmOi5",
        "outputId": "01925dde-0546-4f61-9713-df5bfc05114b"
      },
      "execution_count": null,
      "outputs": [
        {
          "output_type": "stream",
          "name": "stdout",
          "text": [
            "+----------+----+-----+---------+--------+------+-------------+------+---------+---------------+-----------+------------+----+-----+-----+----+\n",
            "|customerID|unit|usage|bathrooms|bedrooms|floors|parkingSpaces|suites|unitFloor|unitsOnTheFloor|usableAreas|neighborhood|zone|price|condo|iptu|\n",
            "+----------+----+-----+---------+--------+------+-------------+------+---------+---------------+-----------+------------+----+-----+-----+----+\n",
            "|         0|   0|    0|        0|       0|     0|            0|     0|        0|              0|          0|           0|   0|    0| 6061|8726|\n",
            "+----------+----+-----+---------+--------+------+-------------+------+---------+---------------+-----------+------------+----+-----+-----+----+\n",
            "\n"
          ]
        }
      ]
    },
    {
      "cell_type": "code",
      "source": [
        "dataset.select('*').na.fill(0).show()"
      ],
      "metadata": {
        "colab": {
          "base_uri": "https://localhost:8080/"
        },
        "id": "H-3tfPaknxue",
        "outputId": "68738562-ce69-4583-f471-71a1f70e9be1"
      },
      "execution_count": null,
      "outputs": [
        {
          "output_type": "stream",
          "name": "stdout",
          "text": [
            "+---------------+-----------+-----------+---------+--------+------+-------------+------+---------+---------------+-----------+--------------------+------------+-------+-----+-----+\n",
            "|     customerID|       unit|      usage|bathrooms|bedrooms|floors|parkingSpaces|suites|unitFloor|unitsOnTheFloor|usableAreas|        neighborhood|        zone|  price|condo| iptu|\n",
            "+---------------+-----------+-----------+---------+--------+------+-------------+------+---------+---------------+-----------+--------------------+------------+-------+-----+-----+\n",
            "|775564-BOJSMVON|     Outros|Residencial|        0|       0|     0|            1|     0|        0|              0|         62|             Taquara|  Zona Oeste|45000.0|150.0|  0.0|\n",
            "|660895-AUENKNYY|Apartamento|Residencial|        1|       2|     0|            1|     0|        0|              0|         44|          Santíssimo|  Zona Oeste|45000.0|120.0|  0.0|\n",
            "|751522-JESYFEQL|     Outros|Residencial|        0|       0|     0|            0|     0|        0|              0|        132|  Pedra de Guaratiba|  Zona Oeste|50000.0|100.0|  0.0|\n",
            "|568886-ZIBFOMCC|Apartamento|Residencial|        2|       3|     3|            1|     1|        2|              4|         60|Recreio dos Bande...|  Zona Oeste|50000.0|400.0|120.0|\n",
            "|526755-OBLTYTEN|     Outros|Residencial|        0|       0|     0|            0|     0|        0|              0|        200|           Guaratiba|  Zona Oeste|50000.0|  0.0|  0.0|\n",
            "|792086-NWNQTDYL|Apartamento|Residencial|        1|       1|     0|            1|     0|        0|              0|         33|         Jacarezinho|  Zona Norte|45336.0|  0.0|  0.0|\n",
            "|339622-MNZGLKTZ|     Outros|Residencial|        0|       0|     0|            0|     0|        0|              0|        120|           Guaratiba|  Zona Oeste|45000.0|  0.0|  0.0|\n",
            "|952338-SVULQMXR|     Outros|Residencial|        0|       0|     0|            0|     0|        0|              0|        468|          Santa Cruz|  Zona Oeste|45000.0|  0.0|  0.0|\n",
            "|570439-LDICQOXZ|     Outros|Residencial|        0|       0|     0|            0|     0|        1|              0|        180|       Vargem Grande|  Zona Oeste|50000.0|  0.0|  0.0|\n",
            "|684023-YTBNKLLO|     Outros|Residencial|        0|       0|     0|            0|     0|        0|              0|        128|               Bangu|  Zona Oeste|50000.0|  0.0|  0.0|\n",
            "|629412-VKUMMAVR|     Outros|Residencial|        0|       0|     0|            0|     0|        1|              0|         82|              Tanque|  Zona Oeste|45000.0|300.0|  0.0|\n",
            "|951104-MACIAPIS|Apartamento|Residencial|        2|       3|    20|            1|     1|       20|             19|         70|        Santo Cristo|Zona Central|45000.0|350.0|120.0|\n",
            "|375665-GHMFEZXX|Apartamento|Residencial|        2|       3|    20|            1|     1|       20|             19|         70|        Santo Cristo|Zona Central|50000.0|350.0|120.0|\n",
            "|441711-LRTWHRUA|Apartamento|Residencial|        1|       1|     0|            0|     0|        2|              0|         37|  Pedra de Guaratiba|  Zona Oeste|50000.0|  0.0|  0.0|\n",
            "|221946-ENAQETGD|     Outros|Residencial|        0|       0|     0|            0|     0|        0|              0|        120|           Guaratiba|  Zona Oeste|45020.0|  0.0|  0.0|\n",
            "|023787-PTASXXTL|     Outros|Residencial|        0|       0|     0|            0|     0|        0|              0|        120|           Guaratiba|  Zona Oeste|45040.0|  0.0|  0.0|\n",
            "|385687-SWOBLUWG|     Outros|Residencial|        0|       0|     0|            0|     0|        0|              0|        150|          Santa Cruz|  Zona Oeste|45000.0|  0.0|  0.0|\n",
            "|037953-VZOABKON|Apartamento|Residencial|        1|       2|     0|            1|     0|        0|              0|         30|         Coelho Neto|  Zona Norte|45000.0|  0.0|  0.0|\n",
            "|913561-GIAMXOYU|     Outros|Residencial|        0|       0|     0|            0|     0|        0|              0|        128|           Guaratiba|  Zona Oeste|45000.0|  0.0|  0.0|\n",
            "|511928-EYKXPKBU|     Outros|Residencial|        0|       0|     0|            0|     0|        0|              0|        120|           Guaratiba|  Zona Oeste|45070.0|  0.0|  0.0|\n",
            "+---------------+-----------+-----------+---------+--------+------+-------------+------+---------+---------------+-----------+--------------------+------------+-------+-----+-----+\n",
            "only showing top 20 rows\n",
            "\n"
          ]
        }
      ]
    },
    {
      "cell_type": "code",
      "source": [
        "dataset= dataset.select('*').na.fill(0)"
      ],
      "metadata": {
        "id": "VTRfc-nIpHUn"
      },
      "execution_count": null,
      "outputs": []
    },
    {
      "cell_type": "code",
      "source": [
        "dataset.select([f.count(f.when(f.isnan(c)| f.isnull(c), True)).alias(c) for c in dataset.columns]).show()"
      ],
      "metadata": {
        "colab": {
          "base_uri": "https://localhost:8080/"
        },
        "id": "AWXlaUd5r47M",
        "outputId": "e4990fed-10d9-489b-b525-884d8bc50269"
      },
      "execution_count": null,
      "outputs": [
        {
          "output_type": "stream",
          "name": "stdout",
          "text": [
            "+----------+----+-----+---------+--------+------+-------------+------+---------+---------------+-----------+------------+----+-----+-----+----+\n",
            "|customerID|unit|usage|bathrooms|bedrooms|floors|parkingSpaces|suites|unitFloor|unitsOnTheFloor|usableAreas|neighborhood|zone|price|condo|iptu|\n",
            "+----------+----+-----+---------+--------+------+-------------+------+---------+---------------+-----------+------------+----+-----+-----+----+\n",
            "|         0|   0|    0|        0|       0|     0|            0|     0|        0|              0|          0|           0|   0|    0|    0|   0|\n",
            "+----------+----+-----+---------+--------+------+-------------+------+---------+---------------+-----------+------------+----+-----+-----+----+\n",
            "\n"
          ]
        }
      ]
    },
    {
      "cell_type": "code",
      "source": [
        "dataset.select('zone').groupBy('zone').count().show()"
      ],
      "metadata": {
        "colab": {
          "base_uri": "https://localhost:8080/"
        },
        "id": "AuSelcowr7SV",
        "outputId": "736e543c-ab31-4df3-ab02-9250b495bb48"
      },
      "execution_count": null,
      "outputs": [
        {
          "output_type": "stream",
          "name": "stdout",
          "text": [
            "+------------+-----+\n",
            "|        zone|count|\n",
            "+------------+-----+\n",
            "|  Zona Norte|14379|\n",
            "|  Zona Oeste|35523|\n",
            "|Zona Central| 1002|\n",
            "|    Zona Sul|18535|\n",
            "|            |  157|\n",
            "+------------+-----+\n",
            "\n"
          ]
        }
      ]
    },
    {
      "cell_type": "code",
      "source": [
        "dataset= dataset.where(f.col('zone') != '')"
      ],
      "metadata": {
        "id": "5a3mlO0OsoLy"
      },
      "execution_count": null,
      "outputs": []
    },
    {
      "cell_type": "markdown",
      "source": [
        "## Preparing data for Regression\n",
        "\n",
        "In this section we will prepare data to be used by regression models."
      ],
      "metadata": {
        "id": "-rfJ0FJcRomb"
      }
    },
    {
      "cell_type": "code",
      "source": [
        "dataset.show()"
      ],
      "metadata": {
        "id": "gstg27bvtH3P",
        "colab": {
          "base_uri": "https://localhost:8080/"
        },
        "outputId": "8aaac1fe-2574-4626-d6f2-262449eb8a03"
      },
      "execution_count": null,
      "outputs": [
        {
          "output_type": "stream",
          "name": "stdout",
          "text": [
            "+---------------+-----------+-----------+---------+--------+------+-------------+------+---------+---------------+-----------+--------------------+------------+-------+-----+-----+\n",
            "|     customerID|       unit|      usage|bathrooms|bedrooms|floors|parkingSpaces|suites|unitFloor|unitsOnTheFloor|usableAreas|        neighborhood|        zone|  price|condo| iptu|\n",
            "+---------------+-----------+-----------+---------+--------+------+-------------+------+---------+---------------+-----------+--------------------+------------+-------+-----+-----+\n",
            "|775564-BOJSMVON|     Outros|Residencial|        0|       0|     0|            1|     0|        0|              0|         62|             Taquara|  Zona Oeste|45000.0|150.0|  0.0|\n",
            "|660895-AUENKNYY|Apartamento|Residencial|        1|       2|     0|            1|     0|        0|              0|         44|          Santíssimo|  Zona Oeste|45000.0|120.0|  0.0|\n",
            "|751522-JESYFEQL|     Outros|Residencial|        0|       0|     0|            0|     0|        0|              0|        132|  Pedra de Guaratiba|  Zona Oeste|50000.0|100.0|  0.0|\n",
            "|568886-ZIBFOMCC|Apartamento|Residencial|        2|       3|     3|            1|     1|        2|              4|         60|Recreio dos Bande...|  Zona Oeste|50000.0|400.0|120.0|\n",
            "|526755-OBLTYTEN|     Outros|Residencial|        0|       0|     0|            0|     0|        0|              0|        200|           Guaratiba|  Zona Oeste|50000.0|  0.0|  0.0|\n",
            "|792086-NWNQTDYL|Apartamento|Residencial|        1|       1|     0|            1|     0|        0|              0|         33|         Jacarezinho|  Zona Norte|45336.0|  0.0|  0.0|\n",
            "|339622-MNZGLKTZ|     Outros|Residencial|        0|       0|     0|            0|     0|        0|              0|        120|           Guaratiba|  Zona Oeste|45000.0|  0.0|  0.0|\n",
            "|952338-SVULQMXR|     Outros|Residencial|        0|       0|     0|            0|     0|        0|              0|        468|          Santa Cruz|  Zona Oeste|45000.0|  0.0|  0.0|\n",
            "|570439-LDICQOXZ|     Outros|Residencial|        0|       0|     0|            0|     0|        1|              0|        180|       Vargem Grande|  Zona Oeste|50000.0|  0.0|  0.0|\n",
            "|684023-YTBNKLLO|     Outros|Residencial|        0|       0|     0|            0|     0|        0|              0|        128|               Bangu|  Zona Oeste|50000.0|  0.0|  0.0|\n",
            "|629412-VKUMMAVR|     Outros|Residencial|        0|       0|     0|            0|     0|        1|              0|         82|              Tanque|  Zona Oeste|45000.0|300.0|  0.0|\n",
            "|951104-MACIAPIS|Apartamento|Residencial|        2|       3|    20|            1|     1|       20|             19|         70|        Santo Cristo|Zona Central|45000.0|350.0|120.0|\n",
            "|375665-GHMFEZXX|Apartamento|Residencial|        2|       3|    20|            1|     1|       20|             19|         70|        Santo Cristo|Zona Central|50000.0|350.0|120.0|\n",
            "|441711-LRTWHRUA|Apartamento|Residencial|        1|       1|     0|            0|     0|        2|              0|         37|  Pedra de Guaratiba|  Zona Oeste|50000.0|  0.0|  0.0|\n",
            "|221946-ENAQETGD|     Outros|Residencial|        0|       0|     0|            0|     0|        0|              0|        120|           Guaratiba|  Zona Oeste|45020.0|  0.0|  0.0|\n",
            "|023787-PTASXXTL|     Outros|Residencial|        0|       0|     0|            0|     0|        0|              0|        120|           Guaratiba|  Zona Oeste|45040.0|  0.0|  0.0|\n",
            "|385687-SWOBLUWG|     Outros|Residencial|        0|       0|     0|            0|     0|        0|              0|        150|          Santa Cruz|  Zona Oeste|45000.0|  0.0|  0.0|\n",
            "|037953-VZOABKON|Apartamento|Residencial|        1|       2|     0|            1|     0|        0|              0|         30|         Coelho Neto|  Zona Norte|45000.0|  0.0|  0.0|\n",
            "|913561-GIAMXOYU|     Outros|Residencial|        0|       0|     0|            0|     0|        0|              0|        128|           Guaratiba|  Zona Oeste|45000.0|  0.0|  0.0|\n",
            "|511928-EYKXPKBU|     Outros|Residencial|        0|       0|     0|            0|     0|        0|              0|        120|           Guaratiba|  Zona Oeste|45070.0|  0.0|  0.0|\n",
            "+---------------+-----------+-----------+---------+--------+------+-------------+------+---------+---------------+-----------+--------------------+------------+-------+-----+-----+\n",
            "only showing top 20 rows\n",
            "\n"
          ]
        }
      ]
    },
    {
      "cell_type": "code",
      "source": [
        "dataset\\\n",
        "  .groupBy('customerID')\\\n",
        "  .pivot('unit')\\\n",
        "  .agg(f.lit(1))\\\n",
        "  .na\\\n",
        "  .fill(0)\\\n",
        "  .show()"
      ],
      "metadata": {
        "colab": {
          "base_uri": "https://localhost:8080/"
        },
        "id": "TmxpceCKVHd9",
        "outputId": "4bda960c-3430-41a5-aa29-0b2be68a8fd4"
      },
      "execution_count": null,
      "outputs": [
        {
          "output_type": "stream",
          "name": "stdout",
          "text": [
            "+---------------+-----------+----+------+\n",
            "|     customerID|Apartamento|Casa|Outros|\n",
            "+---------------+-----------+----+------+\n",
            "|062130-QKYMWGMV|          1|   0|     0|\n",
            "|630945-AEEUPRXI|          0|   1|     0|\n",
            "|994985-OZQNHQKH|          1|   0|     0|\n",
            "|494674-JWXRZIBM|          1|   0|     0|\n",
            "|458844-UJCRFSRI|          1|   0|     0|\n",
            "|155284-BRCDAOIQ|          1|   0|     0|\n",
            "|396742-DUXBHLRU|          1|   0|     0|\n",
            "|916072-ZJXARAXO|          1|   0|     0|\n",
            "|943843-BVTWWHRQ|          1|   0|     0|\n",
            "|193126-MTNIIFQN|          1|   0|     0|\n",
            "|319762-UXTTQYFS|          1|   0|     0|\n",
            "|931151-GZCTKADB|          1|   0|     0|\n",
            "|103840-OFKPFEZJ|          0|   1|     0|\n",
            "|176885-NNKZRQGM|          0|   1|     0|\n",
            "|926638-PBYRAZYR|          1|   0|     0|\n",
            "|744421-IZJWISWB|          1|   0|     0|\n",
            "|530012-TYGLQMER|          1|   0|     0|\n",
            "|209407-GTEUOVKR|          1|   0|     0|\n",
            "|289667-ZPHGFHJH|          1|   0|     0|\n",
            "|859388-EYTPMKER|          1|   0|     0|\n",
            "+---------------+-----------+----+------+\n",
            "only showing top 20 rows\n",
            "\n"
          ]
        }
      ]
    },
    {
      "cell_type": "code",
      "source": [
        "unit= dataset\\\n",
        "      .groupBy('customerID')\\\n",
        "      .pivot('unit')\\\n",
        "      .agg(f.lit(1))\\\n",
        "      .na\\\n",
        "      .fill(0)"
      ],
      "metadata": {
        "id": "Sd8xafPKWDCR"
      },
      "execution_count": null,
      "outputs": []
    },
    {
      "cell_type": "code",
      "source": [
        " zone= dataset\\\n",
        "      .groupBy('customerID')\\\n",
        "      .pivot('zone')\\\n",
        "      .agg(f.lit(1))\\\n",
        "      .na\\\n",
        "      .fill(0)"
      ],
      "metadata": {
        "id": "gG7JD5fwe2tg"
      },
      "execution_count": null,
      "outputs": []
    },
    {
      "cell_type": "code",
      "source": [
        "dataset= dataset\\\n",
        "          .join(unit, 'customerID', how='inner')\\\n",
        "          .join(zone, 'customerID', how='inner')"
      ],
      "metadata": {
        "id": "Y_rFuUj_fG84"
      },
      "execution_count": null,
      "outputs": []
    },
    {
      "cell_type": "code",
      "source": [
        "dataset.show()"
      ],
      "metadata": {
        "colab": {
          "base_uri": "https://localhost:8080/"
        },
        "id": "3XkPK0sjl_Gt",
        "outputId": "adf28256-e6f6-4c5f-c1a5-4c3f0fe33cde"
      },
      "execution_count": null,
      "outputs": [
        {
          "output_type": "stream",
          "name": "stdout",
          "text": [
            "+---------------+-----------+-----------+---------+--------+------+-------------+------+---------+---------------+-----------+--------------------+------------+-------+-----+-----+-----------+----+------+------------+----------+----------+--------+\n",
            "|     customerID|       unit|      usage|bathrooms|bedrooms|floors|parkingSpaces|suites|unitFloor|unitsOnTheFloor|usableAreas|        neighborhood|        zone|  price|condo| iptu|Apartamento|Casa|Outros|Zona Central|Zona Norte|Zona Oeste|Zona Sul|\n",
            "+---------------+-----------+-----------+---------+--------+------+-------------+------+---------+---------------+-----------+--------------------+------------+-------+-----+-----+-----------+----+------+------------+----------+----------+--------+\n",
            "|775564-BOJSMVON|     Outros|Residencial|        0|       0|     0|            1|     0|        0|              0|         62|             Taquara|  Zona Oeste|45000.0|150.0|  0.0|          0|   0|     1|           0|         0|         1|       0|\n",
            "|660895-AUENKNYY|Apartamento|Residencial|        1|       2|     0|            1|     0|        0|              0|         44|          Santíssimo|  Zona Oeste|45000.0|120.0|  0.0|          1|   0|     0|           0|         0|         1|       0|\n",
            "|751522-JESYFEQL|     Outros|Residencial|        0|       0|     0|            0|     0|        0|              0|        132|  Pedra de Guaratiba|  Zona Oeste|50000.0|100.0|  0.0|          0|   0|     1|           0|         0|         1|       0|\n",
            "|568886-ZIBFOMCC|Apartamento|Residencial|        2|       3|     3|            1|     1|        2|              4|         60|Recreio dos Bande...|  Zona Oeste|50000.0|400.0|120.0|          1|   0|     0|           0|         0|         1|       0|\n",
            "|526755-OBLTYTEN|     Outros|Residencial|        0|       0|     0|            0|     0|        0|              0|        200|           Guaratiba|  Zona Oeste|50000.0|  0.0|  0.0|          0|   0|     1|           0|         0|         1|       0|\n",
            "|792086-NWNQTDYL|Apartamento|Residencial|        1|       1|     0|            1|     0|        0|              0|         33|         Jacarezinho|  Zona Norte|45336.0|  0.0|  0.0|          1|   0|     0|           0|         1|         0|       0|\n",
            "|339622-MNZGLKTZ|     Outros|Residencial|        0|       0|     0|            0|     0|        0|              0|        120|           Guaratiba|  Zona Oeste|45000.0|  0.0|  0.0|          0|   0|     1|           0|         0|         1|       0|\n",
            "|952338-SVULQMXR|     Outros|Residencial|        0|       0|     0|            0|     0|        0|              0|        468|          Santa Cruz|  Zona Oeste|45000.0|  0.0|  0.0|          0|   0|     1|           0|         0|         1|       0|\n",
            "|570439-LDICQOXZ|     Outros|Residencial|        0|       0|     0|            0|     0|        1|              0|        180|       Vargem Grande|  Zona Oeste|50000.0|  0.0|  0.0|          0|   0|     1|           0|         0|         1|       0|\n",
            "|684023-YTBNKLLO|     Outros|Residencial|        0|       0|     0|            0|     0|        0|              0|        128|               Bangu|  Zona Oeste|50000.0|  0.0|  0.0|          0|   0|     1|           0|         0|         1|       0|\n",
            "|629412-VKUMMAVR|     Outros|Residencial|        0|       0|     0|            0|     0|        1|              0|         82|              Tanque|  Zona Oeste|45000.0|300.0|  0.0|          0|   0|     1|           0|         0|         1|       0|\n",
            "|951104-MACIAPIS|Apartamento|Residencial|        2|       3|    20|            1|     1|       20|             19|         70|        Santo Cristo|Zona Central|45000.0|350.0|120.0|          1|   0|     0|           1|         0|         0|       0|\n",
            "|375665-GHMFEZXX|Apartamento|Residencial|        2|       3|    20|            1|     1|       20|             19|         70|        Santo Cristo|Zona Central|50000.0|350.0|120.0|          1|   0|     0|           1|         0|         0|       0|\n",
            "|441711-LRTWHRUA|Apartamento|Residencial|        1|       1|     0|            0|     0|        2|              0|         37|  Pedra de Guaratiba|  Zona Oeste|50000.0|  0.0|  0.0|          1|   0|     0|           0|         0|         1|       0|\n",
            "|221946-ENAQETGD|     Outros|Residencial|        0|       0|     0|            0|     0|        0|              0|        120|           Guaratiba|  Zona Oeste|45020.0|  0.0|  0.0|          0|   0|     1|           0|         0|         1|       0|\n",
            "|023787-PTASXXTL|     Outros|Residencial|        0|       0|     0|            0|     0|        0|              0|        120|           Guaratiba|  Zona Oeste|45040.0|  0.0|  0.0|          0|   0|     1|           0|         0|         1|       0|\n",
            "|385687-SWOBLUWG|     Outros|Residencial|        0|       0|     0|            0|     0|        0|              0|        150|          Santa Cruz|  Zona Oeste|45000.0|  0.0|  0.0|          0|   0|     1|           0|         0|         1|       0|\n",
            "|037953-VZOABKON|Apartamento|Residencial|        1|       2|     0|            1|     0|        0|              0|         30|         Coelho Neto|  Zona Norte|45000.0|  0.0|  0.0|          1|   0|     0|           0|         1|         0|       0|\n",
            "|913561-GIAMXOYU|     Outros|Residencial|        0|       0|     0|            0|     0|        0|              0|        128|           Guaratiba|  Zona Oeste|45000.0|  0.0|  0.0|          0|   0|     1|           0|         0|         1|       0|\n",
            "|511928-EYKXPKBU|     Outros|Residencial|        0|       0|     0|            0|     0|        0|              0|        120|           Guaratiba|  Zona Oeste|45070.0|  0.0|  0.0|          0|   0|     1|           0|         0|         1|       0|\n",
            "+---------------+-----------+-----------+---------+--------+------+-------------+------+---------+---------------+-----------+--------------------+------------+-------+-----+-----+-----------+----+------+------------+----------+----------+--------+\n",
            "only showing top 20 rows\n",
            "\n"
          ]
        }
      ]
    },
    {
      "cell_type": "markdown",
      "source": [
        "## Vectorizing data\n",
        "\n",
        "In this section we will vectorize data to use it with a pyspark model"
      ],
      "metadata": {
        "id": "kssiIQy7npL2"
      }
    },
    {
      "cell_type": "code",
      "source": [
        "from pyspark.ml.feature import VectorAssembler"
      ],
      "metadata": {
        "id": "s0EE1NwnnNPb"
      },
      "execution_count": null,
      "outputs": []
    },
    {
      "cell_type": "code",
      "source": [
        "dataset= dataset.withColumnRenamed('price', 'label')"
      ],
      "metadata": {
        "id": "DmoKJo9qn1qg"
      },
      "execution_count": null,
      "outputs": []
    },
    {
      "cell_type": "code",
      "source": [
        "X= [\n",
        "    'bathrooms',\n",
        "    'bedrooms',\n",
        "    'floors',\n",
        "    'parkingSpaces',\n",
        "    'suites',\n",
        "    'unitFloor',\n",
        "    'unitsOnTheFloor',\n",
        "    'usableAreas',\n",
        "    'condo',\n",
        "    'iptu',\n",
        "    'Apartamento',\n",
        "    'Casa',\n",
        "    'Outros',\n",
        "    'Zona Central',\n",
        "    'Zona Norte',\n",
        "    'Zona Oeste',\n",
        "    'Zona Sul'\n",
        "]"
      ],
      "metadata": {
        "id": "wyG2W3Dfn6nR"
      },
      "execution_count": null,
      "outputs": []
    },
    {
      "cell_type": "code",
      "source": [
        "assembler = VectorAssembler(inputCols = X, outputCol = 'features')"
      ],
      "metadata": {
        "id": "cUtBlFh1o9oQ"
      },
      "execution_count": null,
      "outputs": []
    },
    {
      "cell_type": "code",
      "source": [
        "dataset.show()"
      ],
      "metadata": {
        "colab": {
          "base_uri": "https://localhost:8080/"
        },
        "id": "PvTTa_W6pnGk",
        "outputId": "6b3345cf-264f-4fc6-c286-1c0c8c2c4f53"
      },
      "execution_count": null,
      "outputs": [
        {
          "output_type": "stream",
          "name": "stdout",
          "text": [
            "+---------------+-----------+-----------+---------+--------+------+-------------+------+---------+---------------+-----------+--------------------+------------+-------+-----+-----+-----------+----+------+------------+----------+----------+--------+\n",
            "|     customerID|       unit|      usage|bathrooms|bedrooms|floors|parkingSpaces|suites|unitFloor|unitsOnTheFloor|usableAreas|        neighborhood|        zone|  label|condo| iptu|Apartamento|Casa|Outros|Zona Central|Zona Norte|Zona Oeste|Zona Sul|\n",
            "+---------------+-----------+-----------+---------+--------+------+-------------+------+---------+---------------+-----------+--------------------+------------+-------+-----+-----+-----------+----+------+------------+----------+----------+--------+\n",
            "|775564-BOJSMVON|     Outros|Residencial|        0|       0|     0|            1|     0|        0|              0|         62|             Taquara|  Zona Oeste|45000.0|150.0|  0.0|          0|   0|     1|           0|         0|         1|       0|\n",
            "|660895-AUENKNYY|Apartamento|Residencial|        1|       2|     0|            1|     0|        0|              0|         44|          Santíssimo|  Zona Oeste|45000.0|120.0|  0.0|          1|   0|     0|           0|         0|         1|       0|\n",
            "|751522-JESYFEQL|     Outros|Residencial|        0|       0|     0|            0|     0|        0|              0|        132|  Pedra de Guaratiba|  Zona Oeste|50000.0|100.0|  0.0|          0|   0|     1|           0|         0|         1|       0|\n",
            "|568886-ZIBFOMCC|Apartamento|Residencial|        2|       3|     3|            1|     1|        2|              4|         60|Recreio dos Bande...|  Zona Oeste|50000.0|400.0|120.0|          1|   0|     0|           0|         0|         1|       0|\n",
            "|526755-OBLTYTEN|     Outros|Residencial|        0|       0|     0|            0|     0|        0|              0|        200|           Guaratiba|  Zona Oeste|50000.0|  0.0|  0.0|          0|   0|     1|           0|         0|         1|       0|\n",
            "|792086-NWNQTDYL|Apartamento|Residencial|        1|       1|     0|            1|     0|        0|              0|         33|         Jacarezinho|  Zona Norte|45336.0|  0.0|  0.0|          1|   0|     0|           0|         1|         0|       0|\n",
            "|339622-MNZGLKTZ|     Outros|Residencial|        0|       0|     0|            0|     0|        0|              0|        120|           Guaratiba|  Zona Oeste|45000.0|  0.0|  0.0|          0|   0|     1|           0|         0|         1|       0|\n",
            "|952338-SVULQMXR|     Outros|Residencial|        0|       0|     0|            0|     0|        0|              0|        468|          Santa Cruz|  Zona Oeste|45000.0|  0.0|  0.0|          0|   0|     1|           0|         0|         1|       0|\n",
            "|570439-LDICQOXZ|     Outros|Residencial|        0|       0|     0|            0|     0|        1|              0|        180|       Vargem Grande|  Zona Oeste|50000.0|  0.0|  0.0|          0|   0|     1|           0|         0|         1|       0|\n",
            "|684023-YTBNKLLO|     Outros|Residencial|        0|       0|     0|            0|     0|        0|              0|        128|               Bangu|  Zona Oeste|50000.0|  0.0|  0.0|          0|   0|     1|           0|         0|         1|       0|\n",
            "|629412-VKUMMAVR|     Outros|Residencial|        0|       0|     0|            0|     0|        1|              0|         82|              Tanque|  Zona Oeste|45000.0|300.0|  0.0|          0|   0|     1|           0|         0|         1|       0|\n",
            "|951104-MACIAPIS|Apartamento|Residencial|        2|       3|    20|            1|     1|       20|             19|         70|        Santo Cristo|Zona Central|45000.0|350.0|120.0|          1|   0|     0|           1|         0|         0|       0|\n",
            "|375665-GHMFEZXX|Apartamento|Residencial|        2|       3|    20|            1|     1|       20|             19|         70|        Santo Cristo|Zona Central|50000.0|350.0|120.0|          1|   0|     0|           1|         0|         0|       0|\n",
            "|441711-LRTWHRUA|Apartamento|Residencial|        1|       1|     0|            0|     0|        2|              0|         37|  Pedra de Guaratiba|  Zona Oeste|50000.0|  0.0|  0.0|          1|   0|     0|           0|         0|         1|       0|\n",
            "|221946-ENAQETGD|     Outros|Residencial|        0|       0|     0|            0|     0|        0|              0|        120|           Guaratiba|  Zona Oeste|45020.0|  0.0|  0.0|          0|   0|     1|           0|         0|         1|       0|\n",
            "|023787-PTASXXTL|     Outros|Residencial|        0|       0|     0|            0|     0|        0|              0|        120|           Guaratiba|  Zona Oeste|45040.0|  0.0|  0.0|          0|   0|     1|           0|         0|         1|       0|\n",
            "|385687-SWOBLUWG|     Outros|Residencial|        0|       0|     0|            0|     0|        0|              0|        150|          Santa Cruz|  Zona Oeste|45000.0|  0.0|  0.0|          0|   0|     1|           0|         0|         1|       0|\n",
            "|037953-VZOABKON|Apartamento|Residencial|        1|       2|     0|            1|     0|        0|              0|         30|         Coelho Neto|  Zona Norte|45000.0|  0.0|  0.0|          1|   0|     0|           0|         1|         0|       0|\n",
            "|913561-GIAMXOYU|     Outros|Residencial|        0|       0|     0|            0|     0|        0|              0|        128|           Guaratiba|  Zona Oeste|45000.0|  0.0|  0.0|          0|   0|     1|           0|         0|         1|       0|\n",
            "|511928-EYKXPKBU|     Outros|Residencial|        0|       0|     0|            0|     0|        0|              0|        120|           Guaratiba|  Zona Oeste|45070.0|  0.0|  0.0|          0|   0|     1|           0|         0|         1|       0|\n",
            "+---------------+-----------+-----------+---------+--------+------+-------------+------+---------+---------------+-----------+--------------------+------------+-------+-----+-----+-----------+----+------+------------+----------+----------+--------+\n",
            "only showing top 20 rows\n",
            "\n"
          ]
        }
      ]
    },
    {
      "cell_type": "code",
      "source": [
        "dataset_prep = assembler.transform(dataset).select('features', 'label')"
      ],
      "metadata": {
        "id": "uTnBCIv2poRm"
      },
      "execution_count": null,
      "outputs": []
    },
    {
      "cell_type": "code",
      "source": [
        "dataset_prep.show(10, truncate=False)"
      ],
      "metadata": {
        "colab": {
          "base_uri": "https://localhost:8080/"
        },
        "id": "vNvr7wjZqS8J",
        "outputId": "5dbd67a0-68b9-49d9-e274-a931349c995f"
      },
      "execution_count": null,
      "outputs": [
        {
          "output_type": "stream",
          "name": "stdout",
          "text": [
            "+--------------------------------------------------------------------------+-------+\n",
            "|features                                                                  |label  |\n",
            "+--------------------------------------------------------------------------+-------+\n",
            "|(17,[3,7,8,12,15],[1.0,62.0,150.0,1.0,1.0])                               |45000.0|\n",
            "|(17,[0,1,3,7,8,10,15],[1.0,2.0,1.0,44.0,120.0,1.0,1.0])                   |45000.0|\n",
            "|(17,[7,8,12,15],[132.0,100.0,1.0,1.0])                                    |50000.0|\n",
            "|[2.0,3.0,3.0,1.0,1.0,2.0,4.0,60.0,400.0,120.0,1.0,0.0,0.0,0.0,0.0,1.0,0.0]|50000.0|\n",
            "|(17,[7,12,15],[200.0,1.0,1.0])                                            |50000.0|\n",
            "|(17,[0,1,3,7,10,14],[1.0,1.0,1.0,33.0,1.0,1.0])                           |45336.0|\n",
            "|(17,[7,12,15],[120.0,1.0,1.0])                                            |45000.0|\n",
            "|(17,[7,12,15],[468.0,1.0,1.0])                                            |45000.0|\n",
            "|(17,[5,7,12,15],[1.0,180.0,1.0,1.0])                                      |50000.0|\n",
            "|(17,[7,12,15],[128.0,1.0,1.0])                                            |50000.0|\n",
            "+--------------------------------------------------------------------------+-------+\n",
            "only showing top 10 rows\n",
            "\n"
          ]
        }
      ]
    },
    {
      "cell_type": "markdown",
      "source": [
        "## Data Exploration\n",
        "\n",
        "In this section we will take a look at the correlation between variables"
      ],
      "metadata": {
        "id": "PJgS6vrHmR2P"
      }
    },
    {
      "cell_type": "code",
      "source": [
        "from pyspark.ml.stat import Correlation\n",
        "import pandas as pd"
      ],
      "metadata": {
        "id": "MXw-Ek3_qW_8"
      },
      "execution_count": null,
      "outputs": []
    },
    {
      "cell_type": "code",
      "source": [
        "correlacao = Correlation.corr(dataset_prep, 'features').collect()\n",
        "correlacao"
      ],
      "metadata": {
        "colab": {
          "base_uri": "https://localhost:8080/"
        },
        "id": "UgGYey81aKxj",
        "outputId": "912f1610-da2b-41e1-db91-5dd44ac65659"
      },
      "execution_count": null,
      "outputs": [
        {
          "output_type": "execute_result",
          "data": {
            "text/plain": [
              "[Row(pearson(features)=DenseMatrix(17, 17, [1.0, 0.6659, -0.0446, 0.4876, 0.7529, 0.0076, -0.1074, 0.5981, ..., 0.0088, 0.1803, -0.1833, -0.0165, -0.073, -0.3084, -0.6176, 1.0], False))]"
            ]
          },
          "metadata": {},
          "execution_count": 126
        }
      ]
    },
    {
      "cell_type": "code",
      "source": [
        "correlacao = Correlation.corr(dataset_prep, 'features').collect()[0][0]\n",
        "correlacao"
      ],
      "metadata": {
        "colab": {
          "base_uri": "https://localhost:8080/"
        },
        "id": "VbZI7kmIckHF",
        "outputId": "7fd39681-305d-483b-a5f1-945d757abd14"
      },
      "execution_count": null,
      "outputs": [
        {
          "output_type": "execute_result",
          "data": {
            "text/plain": [
              "DenseMatrix(17, 17, [1.0, 0.6659, -0.0446, 0.4876, 0.7529, 0.0076, -0.1074, 0.5981, ..., 0.0088, 0.1803, -0.1833, -0.0165, -0.073, -0.3084, -0.6176, 1.0], False)"
            ]
          },
          "metadata": {},
          "execution_count": 127
        }
      ]
    },
    {
      "cell_type": "code",
      "source": [
        "correlacao.toArray()"
      ],
      "metadata": {
        "colab": {
          "base_uri": "https://localhost:8080/"
        },
        "id": "SlghGx1jdjNu",
        "outputId": "07f221bd-7999-4411-d7ba-a875c2fba310"
      },
      "execution_count": null,
      "outputs": [
        {
          "output_type": "execute_result",
          "data": {
            "text/plain": [
              "array([[ 1.00000000e+00,  6.65910814e-01, -4.45907541e-02,\n",
              "         4.87590447e-01,  7.52927830e-01,  7.62425469e-03,\n",
              "        -1.07437445e-01,  5.98072790e-01,  2.00298945e-02,\n",
              "         1.51023977e-02, -2.75457964e-01,  3.43042378e-01,\n",
              "        -1.40183420e-01, -9.73678190e-02, -1.62497441e-01,\n",
              "         2.42345124e-01, -9.87517576e-02],\n",
              "       [ 6.65910814e-01,  1.00000000e+00, -8.21840063e-02,\n",
              "         4.67161260e-01,  6.01199220e-01, -7.16195849e-03,\n",
              "        -1.30814438e-01,  5.63750247e-01,  1.84819307e-02,\n",
              "         1.36391535e-02, -2.58339018e-01,  3.49962189e-01,\n",
              "        -2.05607705e-01, -1.23732152e-01, -1.11711865e-01,\n",
              "         1.63821698e-01, -4.94325200e-02],\n",
              "       [-4.45907541e-02, -8.21840063e-02,  1.00000000e+00,\n",
              "        -4.84861921e-02, -4.81062141e-02,  1.20981700e-01,\n",
              "         7.37717422e-01, -1.03916850e-01,  1.37973623e-02,\n",
              "         6.68849447e-03,  1.53947015e-01, -1.42089598e-01,\n",
              "        -5.19462291e-02,  1.26044467e-01, -1.69262936e-02,\n",
              "        -3.17495417e-02,  1.74019374e-02],\n",
              "       [ 4.87590447e-01,  4.67161260e-01, -4.84861921e-02,\n",
              "         1.00000000e+00,  4.84987652e-01,  3.76755370e-03,\n",
              "        -7.45265146e-02,  4.83731813e-01,  1.80124560e-02,\n",
              "         9.72140387e-03, -2.52745585e-01,  2.93325601e-01,\n",
              "        -7.23593595e-02, -8.64368160e-02, -1.09956571e-01,\n",
              "         2.67989967e-01, -1.78806840e-01],\n",
              "       [ 7.52927830e-01,  6.01199220e-01, -4.81062141e-02,\n",
              "         4.84987652e-01,  1.00000000e+00,  5.20616260e-03,\n",
              "        -9.19136006e-02,  5.77635834e-01,  2.34606128e-02,\n",
              "         1.90926884e-02, -2.36216911e-01,  2.82221024e-01,\n",
              "        -8.88343634e-02, -8.44165774e-02, -2.30316589e-01,\n",
              "         3.27546479e-01, -1.36397821e-01],\n",
              "       [ 7.62425469e-03, -7.16195849e-03,  1.20981700e-01,\n",
              "         3.76755370e-03,  5.20616260e-03,  1.00000000e+00,\n",
              "         9.23587397e-02, -1.27484319e-02,  3.06513241e-03,\n",
              "         1.20011722e-03,  3.46738112e-02, -3.14033404e-02,\n",
              "        -1.32746256e-02,  2.23147530e-02, -1.11115741e-02,\n",
              "         7.51785790e-03, -4.33263857e-03],\n",
              "       [-1.07437445e-01, -1.30814438e-01,  7.37717422e-01,\n",
              "        -7.45265146e-02, -9.19136006e-02,  9.23587397e-02,\n",
              "         1.00000000e+00, -1.44221795e-01, -5.53843929e-04,\n",
              "         5.02931788e-03,  1.47497097e-01, -1.37754210e-01,\n",
              "        -4.55227478e-02,  1.53638929e-01,  3.07529156e-02,\n",
              "        -1.24335521e-02, -5.55403382e-02],\n",
              "       [ 5.98072790e-01,  5.63750247e-01, -1.03916850e-01,\n",
              "         4.83731813e-01,  5.77635834e-01, -1.27484319e-02,\n",
              "        -1.44221795e-01,  1.00000000e+00,  1.97170581e-02,\n",
              "         1.46557718e-02, -4.82170368e-01,  4.59136000e-01,\n",
              "         1.25671636e-01, -7.52556784e-02, -1.58553255e-01,\n",
              "         1.92466079e-01, -5.19618547e-02],\n",
              "       [ 2.00298945e-02,  1.84819307e-02,  1.37973623e-02,\n",
              "         1.80124560e-02,  2.34606128e-02,  3.06513241e-03,\n",
              "        -5.53843929e-04,  1.97170581e-02,  1.00000000e+00,\n",
              "         2.26212288e-01,  9.10511948e-03, -8.62354544e-03,\n",
              "        -2.49547974e-03, -3.55287358e-03, -1.34528170e-02,\n",
              "        -1.05527328e-03,  1.44735011e-02],\n",
              "       [ 1.51023977e-02,  1.36391535e-02,  6.68849447e-03,\n",
              "         9.72140387e-03,  1.90926884e-02,  1.20011722e-03,\n",
              "         5.02931788e-03,  1.46557718e-02,  2.26212288e-01,\n",
              "         1.00000000e+00, -1.50172361e-03,  2.29128332e-03,\n",
              "        -1.86978516e-03, -2.43773221e-03, -8.40029867e-03,\n",
              "        -4.27577570e-04,  8.83529747e-03],\n",
              "       [-2.75457964e-01, -2.58339018e-01,  1.53947015e-01,\n",
              "        -2.52745585e-01, -2.36216911e-01,  3.46738112e-02,\n",
              "         1.47497097e-01, -4.82170368e-01,  9.10511948e-03,\n",
              "        -1.50172361e-03,  1.00000000e+00, -9.32270330e-01,\n",
              "        -3.13032028e-01,  3.40733867e-02,  1.03123851e-02,\n",
              "        -1.76033305e-01,  1.80288204e-01],\n",
              "       [ 3.43042378e-01,  3.49962189e-01, -1.42089598e-01,\n",
              "         2.93325601e-01,  2.82221024e-01, -3.14033404e-02,\n",
              "        -1.37754210e-01,  4.59136000e-01, -8.62354544e-03,\n",
              "         2.29128332e-03, -9.32270330e-01,  1.00000000e+00,\n",
              "        -5.17506766e-02, -4.18230764e-02, -7.96096280e-03,\n",
              "         1.78639806e-01, -1.83298315e-01],\n",
              "       [-1.40183420e-01, -2.05607705e-01, -5.19462291e-02,\n",
              "        -7.23593595e-02, -8.88343634e-02, -1.32746256e-02,\n",
              "        -4.55227478e-02,  1.25671636e-01, -2.49547974e-03,\n",
              "        -1.86978516e-03, -3.13032028e-01, -5.17506766e-02,\n",
              "         1.00000000e+00,  1.57380272e-02, -7.56767884e-03,\n",
              "         1.69602975e-02, -1.64760386e-02],\n",
              "       [-9.73678190e-02, -1.23732152e-01,  1.26044467e-01,\n",
              "        -8.64368160e-02, -8.44165774e-02,  2.23147530e-02,\n",
              "         1.53638929e-01, -7.52556784e-02, -3.55287358e-03,\n",
              "        -2.43773221e-03,  3.40733867e-02, -4.18230764e-02,\n",
              "         1.57380272e-02,  1.00000000e+00, -6.18350359e-02,\n",
              "        -1.23834280e-01, -7.30144333e-02],\n",
              "       [-1.62497441e-01, -1.11711865e-01, -1.69262936e-02,\n",
              "        -1.09956571e-01, -2.30316589e-01, -1.11115741e-02,\n",
              "         3.07529156e-02, -1.58553255e-01, -1.34528170e-02,\n",
              "        -8.40029867e-03,  1.03123851e-02, -7.96096280e-03,\n",
              "        -7.56767884e-03, -6.18350359e-02,  1.00000000e+00,\n",
              "        -5.22996452e-01, -3.08366065e-01],\n",
              "       [ 2.42345124e-01,  1.63821698e-01, -3.17495417e-02,\n",
              "         2.67989967e-01,  3.27546479e-01,  7.51785790e-03,\n",
              "        -1.24335521e-02,  1.92466079e-01, -1.05527328e-03,\n",
              "        -4.27577570e-04, -1.76033305e-01,  1.78639806e-01,\n",
              "         1.69602975e-02, -1.23834280e-01, -5.22996452e-01,\n",
              "         1.00000000e+00, -6.17551022e-01],\n",
              "       [-9.87517576e-02, -4.94325200e-02,  1.74019374e-02,\n",
              "        -1.78806840e-01, -1.36397821e-01, -4.33263857e-03,\n",
              "        -5.55403382e-02, -5.19618547e-02,  1.44735011e-02,\n",
              "         8.83529747e-03,  1.80288204e-01, -1.83298315e-01,\n",
              "        -1.64760386e-02, -7.30144333e-02, -3.08366065e-01,\n",
              "        -6.17551022e-01,  1.00000000e+00]])"
            ]
          },
          "metadata": {},
          "execution_count": 128
        }
      ]
    },
    {
      "cell_type": "code",
      "source": [
        "dataframe_correlacao = pd.DataFrame(correlacao.toArray(), columns= X, index= X)\n",
        "dataframe_correlacao"
      ],
      "metadata": {
        "colab": {
          "base_uri": "https://localhost:8080/",
          "height": 657
        },
        "id": "zdWPVxFEiUFt",
        "outputId": "e8d15e09-8cb2-4968-fb0d-dd93d12c2b7f"
      },
      "execution_count": null,
      "outputs": [
        {
          "output_type": "execute_result",
          "data": {
            "text/plain": [
              "                 bathrooms  bedrooms    floors  parkingSpaces    suites  \\\n",
              "bathrooms         1.000000  0.665911 -0.044591       0.487590  0.752928   \n",
              "bedrooms          0.665911  1.000000 -0.082184       0.467161  0.601199   \n",
              "floors           -0.044591 -0.082184  1.000000      -0.048486 -0.048106   \n",
              "parkingSpaces     0.487590  0.467161 -0.048486       1.000000  0.484988   \n",
              "suites            0.752928  0.601199 -0.048106       0.484988  1.000000   \n",
              "unitFloor         0.007624 -0.007162  0.120982       0.003768  0.005206   \n",
              "unitsOnTheFloor  -0.107437 -0.130814  0.737717      -0.074527 -0.091914   \n",
              "usableAreas       0.598073  0.563750 -0.103917       0.483732  0.577636   \n",
              "condo             0.020030  0.018482  0.013797       0.018012  0.023461   \n",
              "iptu              0.015102  0.013639  0.006688       0.009721  0.019093   \n",
              "Apartamento      -0.275458 -0.258339  0.153947      -0.252746 -0.236217   \n",
              "Casa              0.343042  0.349962 -0.142090       0.293326  0.282221   \n",
              "Outros           -0.140183 -0.205608 -0.051946      -0.072359 -0.088834   \n",
              "Zona Central     -0.097368 -0.123732  0.126044      -0.086437 -0.084417   \n",
              "Zona Norte       -0.162497 -0.111712 -0.016926      -0.109957 -0.230317   \n",
              "Zona Oeste        0.242345  0.163822 -0.031750       0.267990  0.327546   \n",
              "Zona Sul         -0.098752 -0.049433  0.017402      -0.178807 -0.136398   \n",
              "\n",
              "                 unitFloor  unitsOnTheFloor  usableAreas     condo      iptu  \\\n",
              "bathrooms         0.007624        -0.107437     0.598073  0.020030  0.015102   \n",
              "bedrooms         -0.007162        -0.130814     0.563750  0.018482  0.013639   \n",
              "floors            0.120982         0.737717    -0.103917  0.013797  0.006688   \n",
              "parkingSpaces     0.003768        -0.074527     0.483732  0.018012  0.009721   \n",
              "suites            0.005206        -0.091914     0.577636  0.023461  0.019093   \n",
              "unitFloor         1.000000         0.092359    -0.012748  0.003065  0.001200   \n",
              "unitsOnTheFloor   0.092359         1.000000    -0.144222 -0.000554  0.005029   \n",
              "usableAreas      -0.012748        -0.144222     1.000000  0.019717  0.014656   \n",
              "condo             0.003065        -0.000554     0.019717  1.000000  0.226212   \n",
              "iptu              0.001200         0.005029     0.014656  0.226212  1.000000   \n",
              "Apartamento       0.034674         0.147497    -0.482170  0.009105 -0.001502   \n",
              "Casa             -0.031403        -0.137754     0.459136 -0.008624  0.002291   \n",
              "Outros           -0.013275        -0.045523     0.125672 -0.002495 -0.001870   \n",
              "Zona Central      0.022315         0.153639    -0.075256 -0.003553 -0.002438   \n",
              "Zona Norte       -0.011112         0.030753    -0.158553 -0.013453 -0.008400   \n",
              "Zona Oeste        0.007518        -0.012434     0.192466 -0.001055 -0.000428   \n",
              "Zona Sul         -0.004333        -0.055540    -0.051962  0.014474  0.008835   \n",
              "\n",
              "                 Apartamento      Casa    Outros  Zona Central  Zona Norte  \\\n",
              "bathrooms          -0.275458  0.343042 -0.140183     -0.097368   -0.162497   \n",
              "bedrooms           -0.258339  0.349962 -0.205608     -0.123732   -0.111712   \n",
              "floors              0.153947 -0.142090 -0.051946      0.126044   -0.016926   \n",
              "parkingSpaces      -0.252746  0.293326 -0.072359     -0.086437   -0.109957   \n",
              "suites             -0.236217  0.282221 -0.088834     -0.084417   -0.230317   \n",
              "unitFloor           0.034674 -0.031403 -0.013275      0.022315   -0.011112   \n",
              "unitsOnTheFloor     0.147497 -0.137754 -0.045523      0.153639    0.030753   \n",
              "usableAreas        -0.482170  0.459136  0.125672     -0.075256   -0.158553   \n",
              "condo               0.009105 -0.008624 -0.002495     -0.003553   -0.013453   \n",
              "iptu               -0.001502  0.002291 -0.001870     -0.002438   -0.008400   \n",
              "Apartamento         1.000000 -0.932270 -0.313032      0.034073    0.010312   \n",
              "Casa               -0.932270  1.000000 -0.051751     -0.041823   -0.007961   \n",
              "Outros             -0.313032 -0.051751  1.000000      0.015738   -0.007568   \n",
              "Zona Central        0.034073 -0.041823  0.015738      1.000000   -0.061835   \n",
              "Zona Norte          0.010312 -0.007961 -0.007568     -0.061835    1.000000   \n",
              "Zona Oeste         -0.176033  0.178640  0.016960     -0.123834   -0.522996   \n",
              "Zona Sul            0.180288 -0.183298 -0.016476     -0.073014   -0.308366   \n",
              "\n",
              "                 Zona Oeste  Zona Sul  \n",
              "bathrooms          0.242345 -0.098752  \n",
              "bedrooms           0.163822 -0.049433  \n",
              "floors            -0.031750  0.017402  \n",
              "parkingSpaces      0.267990 -0.178807  \n",
              "suites             0.327546 -0.136398  \n",
              "unitFloor          0.007518 -0.004333  \n",
              "unitsOnTheFloor   -0.012434 -0.055540  \n",
              "usableAreas        0.192466 -0.051962  \n",
              "condo             -0.001055  0.014474  \n",
              "iptu              -0.000428  0.008835  \n",
              "Apartamento       -0.176033  0.180288  \n",
              "Casa               0.178640 -0.183298  \n",
              "Outros             0.016960 -0.016476  \n",
              "Zona Central      -0.123834 -0.073014  \n",
              "Zona Norte        -0.522996 -0.308366  \n",
              "Zona Oeste         1.000000 -0.617551  \n",
              "Zona Sul          -0.617551  1.000000  "
            ],
            "text/html": [
              "\n",
              "  <div id=\"df-99d43a40-0dea-483d-9288-7791ad98a9d1\">\n",
              "    <div class=\"colab-df-container\">\n",
              "      <div>\n",
              "<style scoped>\n",
              "    .dataframe tbody tr th:only-of-type {\n",
              "        vertical-align: middle;\n",
              "    }\n",
              "\n",
              "    .dataframe tbody tr th {\n",
              "        vertical-align: top;\n",
              "    }\n",
              "\n",
              "    .dataframe thead th {\n",
              "        text-align: right;\n",
              "    }\n",
              "</style>\n",
              "<table border=\"1\" class=\"dataframe\">\n",
              "  <thead>\n",
              "    <tr style=\"text-align: right;\">\n",
              "      <th></th>\n",
              "      <th>bathrooms</th>\n",
              "      <th>bedrooms</th>\n",
              "      <th>floors</th>\n",
              "      <th>parkingSpaces</th>\n",
              "      <th>suites</th>\n",
              "      <th>unitFloor</th>\n",
              "      <th>unitsOnTheFloor</th>\n",
              "      <th>usableAreas</th>\n",
              "      <th>condo</th>\n",
              "      <th>iptu</th>\n",
              "      <th>Apartamento</th>\n",
              "      <th>Casa</th>\n",
              "      <th>Outros</th>\n",
              "      <th>Zona Central</th>\n",
              "      <th>Zona Norte</th>\n",
              "      <th>Zona Oeste</th>\n",
              "      <th>Zona Sul</th>\n",
              "    </tr>\n",
              "  </thead>\n",
              "  <tbody>\n",
              "    <tr>\n",
              "      <th>bathrooms</th>\n",
              "      <td>1.000000</td>\n",
              "      <td>0.665911</td>\n",
              "      <td>-0.044591</td>\n",
              "      <td>0.487590</td>\n",
              "      <td>0.752928</td>\n",
              "      <td>0.007624</td>\n",
              "      <td>-0.107437</td>\n",
              "      <td>0.598073</td>\n",
              "      <td>0.020030</td>\n",
              "      <td>0.015102</td>\n",
              "      <td>-0.275458</td>\n",
              "      <td>0.343042</td>\n",
              "      <td>-0.140183</td>\n",
              "      <td>-0.097368</td>\n",
              "      <td>-0.162497</td>\n",
              "      <td>0.242345</td>\n",
              "      <td>-0.098752</td>\n",
              "    </tr>\n",
              "    <tr>\n",
              "      <th>bedrooms</th>\n",
              "      <td>0.665911</td>\n",
              "      <td>1.000000</td>\n",
              "      <td>-0.082184</td>\n",
              "      <td>0.467161</td>\n",
              "      <td>0.601199</td>\n",
              "      <td>-0.007162</td>\n",
              "      <td>-0.130814</td>\n",
              "      <td>0.563750</td>\n",
              "      <td>0.018482</td>\n",
              "      <td>0.013639</td>\n",
              "      <td>-0.258339</td>\n",
              "      <td>0.349962</td>\n",
              "      <td>-0.205608</td>\n",
              "      <td>-0.123732</td>\n",
              "      <td>-0.111712</td>\n",
              "      <td>0.163822</td>\n",
              "      <td>-0.049433</td>\n",
              "    </tr>\n",
              "    <tr>\n",
              "      <th>floors</th>\n",
              "      <td>-0.044591</td>\n",
              "      <td>-0.082184</td>\n",
              "      <td>1.000000</td>\n",
              "      <td>-0.048486</td>\n",
              "      <td>-0.048106</td>\n",
              "      <td>0.120982</td>\n",
              "      <td>0.737717</td>\n",
              "      <td>-0.103917</td>\n",
              "      <td>0.013797</td>\n",
              "      <td>0.006688</td>\n",
              "      <td>0.153947</td>\n",
              "      <td>-0.142090</td>\n",
              "      <td>-0.051946</td>\n",
              "      <td>0.126044</td>\n",
              "      <td>-0.016926</td>\n",
              "      <td>-0.031750</td>\n",
              "      <td>0.017402</td>\n",
              "    </tr>\n",
              "    <tr>\n",
              "      <th>parkingSpaces</th>\n",
              "      <td>0.487590</td>\n",
              "      <td>0.467161</td>\n",
              "      <td>-0.048486</td>\n",
              "      <td>1.000000</td>\n",
              "      <td>0.484988</td>\n",
              "      <td>0.003768</td>\n",
              "      <td>-0.074527</td>\n",
              "      <td>0.483732</td>\n",
              "      <td>0.018012</td>\n",
              "      <td>0.009721</td>\n",
              "      <td>-0.252746</td>\n",
              "      <td>0.293326</td>\n",
              "      <td>-0.072359</td>\n",
              "      <td>-0.086437</td>\n",
              "      <td>-0.109957</td>\n",
              "      <td>0.267990</td>\n",
              "      <td>-0.178807</td>\n",
              "    </tr>\n",
              "    <tr>\n",
              "      <th>suites</th>\n",
              "      <td>0.752928</td>\n",
              "      <td>0.601199</td>\n",
              "      <td>-0.048106</td>\n",
              "      <td>0.484988</td>\n",
              "      <td>1.000000</td>\n",
              "      <td>0.005206</td>\n",
              "      <td>-0.091914</td>\n",
              "      <td>0.577636</td>\n",
              "      <td>0.023461</td>\n",
              "      <td>0.019093</td>\n",
              "      <td>-0.236217</td>\n",
              "      <td>0.282221</td>\n",
              "      <td>-0.088834</td>\n",
              "      <td>-0.084417</td>\n",
              "      <td>-0.230317</td>\n",
              "      <td>0.327546</td>\n",
              "      <td>-0.136398</td>\n",
              "    </tr>\n",
              "    <tr>\n",
              "      <th>unitFloor</th>\n",
              "      <td>0.007624</td>\n",
              "      <td>-0.007162</td>\n",
              "      <td>0.120982</td>\n",
              "      <td>0.003768</td>\n",
              "      <td>0.005206</td>\n",
              "      <td>1.000000</td>\n",
              "      <td>0.092359</td>\n",
              "      <td>-0.012748</td>\n",
              "      <td>0.003065</td>\n",
              "      <td>0.001200</td>\n",
              "      <td>0.034674</td>\n",
              "      <td>-0.031403</td>\n",
              "      <td>-0.013275</td>\n",
              "      <td>0.022315</td>\n",
              "      <td>-0.011112</td>\n",
              "      <td>0.007518</td>\n",
              "      <td>-0.004333</td>\n",
              "    </tr>\n",
              "    <tr>\n",
              "      <th>unitsOnTheFloor</th>\n",
              "      <td>-0.107437</td>\n",
              "      <td>-0.130814</td>\n",
              "      <td>0.737717</td>\n",
              "      <td>-0.074527</td>\n",
              "      <td>-0.091914</td>\n",
              "      <td>0.092359</td>\n",
              "      <td>1.000000</td>\n",
              "      <td>-0.144222</td>\n",
              "      <td>-0.000554</td>\n",
              "      <td>0.005029</td>\n",
              "      <td>0.147497</td>\n",
              "      <td>-0.137754</td>\n",
              "      <td>-0.045523</td>\n",
              "      <td>0.153639</td>\n",
              "      <td>0.030753</td>\n",
              "      <td>-0.012434</td>\n",
              "      <td>-0.055540</td>\n",
              "    </tr>\n",
              "    <tr>\n",
              "      <th>usableAreas</th>\n",
              "      <td>0.598073</td>\n",
              "      <td>0.563750</td>\n",
              "      <td>-0.103917</td>\n",
              "      <td>0.483732</td>\n",
              "      <td>0.577636</td>\n",
              "      <td>-0.012748</td>\n",
              "      <td>-0.144222</td>\n",
              "      <td>1.000000</td>\n",
              "      <td>0.019717</td>\n",
              "      <td>0.014656</td>\n",
              "      <td>-0.482170</td>\n",
              "      <td>0.459136</td>\n",
              "      <td>0.125672</td>\n",
              "      <td>-0.075256</td>\n",
              "      <td>-0.158553</td>\n",
              "      <td>0.192466</td>\n",
              "      <td>-0.051962</td>\n",
              "    </tr>\n",
              "    <tr>\n",
              "      <th>condo</th>\n",
              "      <td>0.020030</td>\n",
              "      <td>0.018482</td>\n",
              "      <td>0.013797</td>\n",
              "      <td>0.018012</td>\n",
              "      <td>0.023461</td>\n",
              "      <td>0.003065</td>\n",
              "      <td>-0.000554</td>\n",
              "      <td>0.019717</td>\n",
              "      <td>1.000000</td>\n",
              "      <td>0.226212</td>\n",
              "      <td>0.009105</td>\n",
              "      <td>-0.008624</td>\n",
              "      <td>-0.002495</td>\n",
              "      <td>-0.003553</td>\n",
              "      <td>-0.013453</td>\n",
              "      <td>-0.001055</td>\n",
              "      <td>0.014474</td>\n",
              "    </tr>\n",
              "    <tr>\n",
              "      <th>iptu</th>\n",
              "      <td>0.015102</td>\n",
              "      <td>0.013639</td>\n",
              "      <td>0.006688</td>\n",
              "      <td>0.009721</td>\n",
              "      <td>0.019093</td>\n",
              "      <td>0.001200</td>\n",
              "      <td>0.005029</td>\n",
              "      <td>0.014656</td>\n",
              "      <td>0.226212</td>\n",
              "      <td>1.000000</td>\n",
              "      <td>-0.001502</td>\n",
              "      <td>0.002291</td>\n",
              "      <td>-0.001870</td>\n",
              "      <td>-0.002438</td>\n",
              "      <td>-0.008400</td>\n",
              "      <td>-0.000428</td>\n",
              "      <td>0.008835</td>\n",
              "    </tr>\n",
              "    <tr>\n",
              "      <th>Apartamento</th>\n",
              "      <td>-0.275458</td>\n",
              "      <td>-0.258339</td>\n",
              "      <td>0.153947</td>\n",
              "      <td>-0.252746</td>\n",
              "      <td>-0.236217</td>\n",
              "      <td>0.034674</td>\n",
              "      <td>0.147497</td>\n",
              "      <td>-0.482170</td>\n",
              "      <td>0.009105</td>\n",
              "      <td>-0.001502</td>\n",
              "      <td>1.000000</td>\n",
              "      <td>-0.932270</td>\n",
              "      <td>-0.313032</td>\n",
              "      <td>0.034073</td>\n",
              "      <td>0.010312</td>\n",
              "      <td>-0.176033</td>\n",
              "      <td>0.180288</td>\n",
              "    </tr>\n",
              "    <tr>\n",
              "      <th>Casa</th>\n",
              "      <td>0.343042</td>\n",
              "      <td>0.349962</td>\n",
              "      <td>-0.142090</td>\n",
              "      <td>0.293326</td>\n",
              "      <td>0.282221</td>\n",
              "      <td>-0.031403</td>\n",
              "      <td>-0.137754</td>\n",
              "      <td>0.459136</td>\n",
              "      <td>-0.008624</td>\n",
              "      <td>0.002291</td>\n",
              "      <td>-0.932270</td>\n",
              "      <td>1.000000</td>\n",
              "      <td>-0.051751</td>\n",
              "      <td>-0.041823</td>\n",
              "      <td>-0.007961</td>\n",
              "      <td>0.178640</td>\n",
              "      <td>-0.183298</td>\n",
              "    </tr>\n",
              "    <tr>\n",
              "      <th>Outros</th>\n",
              "      <td>-0.140183</td>\n",
              "      <td>-0.205608</td>\n",
              "      <td>-0.051946</td>\n",
              "      <td>-0.072359</td>\n",
              "      <td>-0.088834</td>\n",
              "      <td>-0.013275</td>\n",
              "      <td>-0.045523</td>\n",
              "      <td>0.125672</td>\n",
              "      <td>-0.002495</td>\n",
              "      <td>-0.001870</td>\n",
              "      <td>-0.313032</td>\n",
              "      <td>-0.051751</td>\n",
              "      <td>1.000000</td>\n",
              "      <td>0.015738</td>\n",
              "      <td>-0.007568</td>\n",
              "      <td>0.016960</td>\n",
              "      <td>-0.016476</td>\n",
              "    </tr>\n",
              "    <tr>\n",
              "      <th>Zona Central</th>\n",
              "      <td>-0.097368</td>\n",
              "      <td>-0.123732</td>\n",
              "      <td>0.126044</td>\n",
              "      <td>-0.086437</td>\n",
              "      <td>-0.084417</td>\n",
              "      <td>0.022315</td>\n",
              "      <td>0.153639</td>\n",
              "      <td>-0.075256</td>\n",
              "      <td>-0.003553</td>\n",
              "      <td>-0.002438</td>\n",
              "      <td>0.034073</td>\n",
              "      <td>-0.041823</td>\n",
              "      <td>0.015738</td>\n",
              "      <td>1.000000</td>\n",
              "      <td>-0.061835</td>\n",
              "      <td>-0.123834</td>\n",
              "      <td>-0.073014</td>\n",
              "    </tr>\n",
              "    <tr>\n",
              "      <th>Zona Norte</th>\n",
              "      <td>-0.162497</td>\n",
              "      <td>-0.111712</td>\n",
              "      <td>-0.016926</td>\n",
              "      <td>-0.109957</td>\n",
              "      <td>-0.230317</td>\n",
              "      <td>-0.011112</td>\n",
              "      <td>0.030753</td>\n",
              "      <td>-0.158553</td>\n",
              "      <td>-0.013453</td>\n",
              "      <td>-0.008400</td>\n",
              "      <td>0.010312</td>\n",
              "      <td>-0.007961</td>\n",
              "      <td>-0.007568</td>\n",
              "      <td>-0.061835</td>\n",
              "      <td>1.000000</td>\n",
              "      <td>-0.522996</td>\n",
              "      <td>-0.308366</td>\n",
              "    </tr>\n",
              "    <tr>\n",
              "      <th>Zona Oeste</th>\n",
              "      <td>0.242345</td>\n",
              "      <td>0.163822</td>\n",
              "      <td>-0.031750</td>\n",
              "      <td>0.267990</td>\n",
              "      <td>0.327546</td>\n",
              "      <td>0.007518</td>\n",
              "      <td>-0.012434</td>\n",
              "      <td>0.192466</td>\n",
              "      <td>-0.001055</td>\n",
              "      <td>-0.000428</td>\n",
              "      <td>-0.176033</td>\n",
              "      <td>0.178640</td>\n",
              "      <td>0.016960</td>\n",
              "      <td>-0.123834</td>\n",
              "      <td>-0.522996</td>\n",
              "      <td>1.000000</td>\n",
              "      <td>-0.617551</td>\n",
              "    </tr>\n",
              "    <tr>\n",
              "      <th>Zona Sul</th>\n",
              "      <td>-0.098752</td>\n",
              "      <td>-0.049433</td>\n",
              "      <td>0.017402</td>\n",
              "      <td>-0.178807</td>\n",
              "      <td>-0.136398</td>\n",
              "      <td>-0.004333</td>\n",
              "      <td>-0.055540</td>\n",
              "      <td>-0.051962</td>\n",
              "      <td>0.014474</td>\n",
              "      <td>0.008835</td>\n",
              "      <td>0.180288</td>\n",
              "      <td>-0.183298</td>\n",
              "      <td>-0.016476</td>\n",
              "      <td>-0.073014</td>\n",
              "      <td>-0.308366</td>\n",
              "      <td>-0.617551</td>\n",
              "      <td>1.000000</td>\n",
              "    </tr>\n",
              "  </tbody>\n",
              "</table>\n",
              "</div>\n",
              "      <button class=\"colab-df-convert\" onclick=\"convertToInteractive('df-99d43a40-0dea-483d-9288-7791ad98a9d1')\"\n",
              "              title=\"Convert this dataframe to an interactive table.\"\n",
              "              style=\"display:none;\">\n",
              "        \n",
              "  <svg xmlns=\"http://www.w3.org/2000/svg\" height=\"24px\"viewBox=\"0 0 24 24\"\n",
              "       width=\"24px\">\n",
              "    <path d=\"M0 0h24v24H0V0z\" fill=\"none\"/>\n",
              "    <path d=\"M18.56 5.44l.94 2.06.94-2.06 2.06-.94-2.06-.94-.94-2.06-.94 2.06-2.06.94zm-11 1L8.5 8.5l.94-2.06 2.06-.94-2.06-.94L8.5 2.5l-.94 2.06-2.06.94zm10 10l.94 2.06.94-2.06 2.06-.94-2.06-.94-.94-2.06-.94 2.06-2.06.94z\"/><path d=\"M17.41 7.96l-1.37-1.37c-.4-.4-.92-.59-1.43-.59-.52 0-1.04.2-1.43.59L10.3 9.45l-7.72 7.72c-.78.78-.78 2.05 0 2.83L4 21.41c.39.39.9.59 1.41.59.51 0 1.02-.2 1.41-.59l7.78-7.78 2.81-2.81c.8-.78.8-2.07 0-2.86zM5.41 20L4 18.59l7.72-7.72 1.47 1.35L5.41 20z\"/>\n",
              "  </svg>\n",
              "      </button>\n",
              "      \n",
              "  <style>\n",
              "    .colab-df-container {\n",
              "      display:flex;\n",
              "      flex-wrap:wrap;\n",
              "      gap: 12px;\n",
              "    }\n",
              "\n",
              "    .colab-df-convert {\n",
              "      background-color: #E8F0FE;\n",
              "      border: none;\n",
              "      border-radius: 50%;\n",
              "      cursor: pointer;\n",
              "      display: none;\n",
              "      fill: #1967D2;\n",
              "      height: 32px;\n",
              "      padding: 0 0 0 0;\n",
              "      width: 32px;\n",
              "    }\n",
              "\n",
              "    .colab-df-convert:hover {\n",
              "      background-color: #E2EBFA;\n",
              "      box-shadow: 0px 1px 2px rgba(60, 64, 67, 0.3), 0px 1px 3px 1px rgba(60, 64, 67, 0.15);\n",
              "      fill: #174EA6;\n",
              "    }\n",
              "\n",
              "    [theme=dark] .colab-df-convert {\n",
              "      background-color: #3B4455;\n",
              "      fill: #D2E3FC;\n",
              "    }\n",
              "\n",
              "    [theme=dark] .colab-df-convert:hover {\n",
              "      background-color: #434B5C;\n",
              "      box-shadow: 0px 1px 3px 1px rgba(0, 0, 0, 0.15);\n",
              "      filter: drop-shadow(0px 1px 2px rgba(0, 0, 0, 0.3));\n",
              "      fill: #FFFFFF;\n",
              "    }\n",
              "  </style>\n",
              "\n",
              "      <script>\n",
              "        const buttonEl =\n",
              "          document.querySelector('#df-99d43a40-0dea-483d-9288-7791ad98a9d1 button.colab-df-convert');\n",
              "        buttonEl.style.display =\n",
              "          google.colab.kernel.accessAllowed ? 'block' : 'none';\n",
              "\n",
              "        async function convertToInteractive(key) {\n",
              "          const element = document.querySelector('#df-99d43a40-0dea-483d-9288-7791ad98a9d1');\n",
              "          const dataTable =\n",
              "            await google.colab.kernel.invokeFunction('convertToInteractive',\n",
              "                                                     [key], {});\n",
              "          if (!dataTable) return;\n",
              "\n",
              "          const docLinkHtml = 'Like what you see? Visit the ' +\n",
              "            '<a target=\"_blank\" href=https://colab.research.google.com/notebooks/data_table.ipynb>data table notebook</a>'\n",
              "            + ' to learn more about interactive tables.';\n",
              "          element.innerHTML = '';\n",
              "          dataTable['output_type'] = 'display_data';\n",
              "          await google.colab.output.renderOutput(dataTable, element);\n",
              "          const docLink = document.createElement('div');\n",
              "          docLink.innerHTML = docLinkHtml;\n",
              "          element.appendChild(docLink);\n",
              "        }\n",
              "      </script>\n",
              "    </div>\n",
              "  </div>\n",
              "  "
            ]
          },
          "metadata": {},
          "execution_count": 129
        }
      ]
    },
    {
      "cell_type": "code",
      "source": [
        "import matplotlib.pyplot as plt\n",
        "import seaborn as sns"
      ],
      "metadata": {
        "id": "R-xr3bvajpcu"
      },
      "execution_count": null,
      "outputs": []
    },
    {
      "cell_type": "code",
      "source": [
        "plt.figure(figsize=(12,10))\n",
        "paleta = sns.color_palette('light:salmon', as_cmap=True)\n",
        "sns.heatmap(dataframe_correlacao.round(1), annot=True, cmap=paleta)"
      ],
      "metadata": {
        "colab": {
          "base_uri": "https://localhost:8080/",
          "height": 105
        },
        "id": "GPl8yx4jjunv",
        "outputId": "c40a24c7-75a6-4f16-deb3-8cc9bea49b8e"
      },
      "execution_count": null,
      "outputs": [
        {
          "output_type": "execute_result",
          "data": {
            "text/plain": [
              "<matplotlib.axes._subplots.AxesSubplot at 0x7fb2c83770d0>"
            ]
          },
          "metadata": {},
          "execution_count": 131
        },
        {
          "output_type": "display_data",
          "data": {
            "text/plain": [
              "<Figure size 864x720 with 2 Axes>"
            ],
            "image/png": "[encoded data removed]"
          },
          "metadata": {
            "needs_background": "light"
          }
        }
      ]
    },
    {
      "cell_type": "markdown",
      "source": [
        "## Tweaks and Prediction\n",
        "\n",
        "In this section we will perform the last tweaks on data and predict using Linear Regression"
      ],
      "metadata": {
        "id": "DIuwTY6KrrCq"
      }
    },
    {
      "cell_type": "code",
      "source": [
        "from pyspark.ml.regression import LinearRegression"
      ],
      "metadata": {
        "id": "n000FIGrm8Zp"
      },
      "execution_count": null,
      "outputs": []
    },
    {
      "cell_type": "code",
      "source": [
        "treino, teste = dataset_prep.randomSplit([0.7, 0.3], seed = 101)\n",
        "print(f'Quantidade de dados de treino: {treino.count()}')\n",
        "print(f'Quantidade de dados de teste: {teste.count()}')"
      ],
      "metadata": {
        "colab": {
          "base_uri": "https://localhost:8080/"
        },
        "id": "KkSqX0FPr10S",
        "outputId": "01b78f29-dce5-4d16-cbc5-107bf5321247"
      },
      "execution_count": null,
      "outputs": [
        {
          "output_type": "stream",
          "name": "stdout",
          "text": [
            "Quantidade de dados de treino: 48528\n",
            "Quantidade de dados de teste: 20911\n"
          ]
        }
      ]
    },
    {
      "cell_type": "code",
      "source": [
        "lr = LinearRegression()"
      ],
      "metadata": {
        "id": "GxkGjIH8sHSP"
      },
      "execution_count": null,
      "outputs": []
    },
    {
      "cell_type": "code",
      "source": [
        "modelo_lr = lr.fit(treino)"
      ],
      "metadata": {
        "id": "l7MuOXoRuAr2"
      },
      "execution_count": null,
      "outputs": []
    },
    {
      "cell_type": "code",
      "source": [
        "previsoes_lr_treino = modelo_lr.transform(treino)"
      ],
      "metadata": {
        "id": "NN0cgau_xain"
      },
      "execution_count": null,
      "outputs": []
    },
    {
      "cell_type": "code",
      "source": [
        "previsoes_lr_treino.show()"
      ],
      "metadata": {
        "colab": {
          "base_uri": "https://localhost:8080/"
        },
        "id": "7FBHtqy0yrTL",
        "outputId": "930bb271-d6b7-4f04-ca5a-b7d4f1eb9e3e"
      },
      "execution_count": null,
      "outputs": [
        {
          "output_type": "stream",
          "name": "stdout",
          "text": [
            "+--------------------+--------+------------------+\n",
            "|            features|   label|        prediction|\n",
            "+--------------------+--------+------------------+\n",
            "|(17,[0,1,2,3,4,5,...|260000.0|443266.04737020144|\n",
            "|(17,[0,1,2,3,4,5,...|500000.0|1127455.8300462805|\n",
            "|(17,[0,1,2,3,4,5,...|308615.0|111210.49949889386|\n",
            "|(17,[0,1,2,3,4,5,...|279000.0|113587.95787719043|\n",
            "|(17,[0,1,2,3,4,5,...|545000.0|340703.71307873435|\n",
            "|(17,[0,1,2,3,4,5,...|449000.0|390571.99595798284|\n",
            "|(17,[0,1,2,3,4,5,...|479000.0| 444003.4297194885|\n",
            "|(17,[0,1,2,3,4,5,...|420000.0| 720022.1542161054|\n",
            "|(17,[0,1,2,3,4,5,...|265000.0|519406.05037395435|\n",
            "|(17,[0,1,2,3,4,5,...|490000.0| 845483.5388437647|\n",
            "|(17,[0,1,2,3,4,5,...|650000.0| 644931.4982488954|\n",
            "|(17,[0,1,2,3,4,5,...|379900.0| 448889.3339027724|\n",
            "|(17,[0,1,2,3,4,5,...|449000.0| 714548.9501108339|\n",
            "|(17,[0,1,2,3,4,5,...|190000.0| 411726.9411630478|\n",
            "|(17,[0,1,2,3,4,5,...|896000.0| 597499.4601552959|\n",
            "|(17,[0,1,2,3,4,5,...|679000.0| 864544.0129262989|\n",
            "|(17,[0,1,2,3,4,5,...|620000.0| 462766.7203440106|\n",
            "|(17,[0,1,2,3,4,5,...|727000.0|419082.43132300966|\n",
            "|(17,[0,1,2,3,4,5,...|880000.0| 742962.4865669494|\n",
            "|(17,[0,1,2,3,4,5,...|435000.0| 357556.2432515231|\n",
            "+--------------------+--------+------------------+\n",
            "only showing top 20 rows\n",
            "\n"
          ]
        }
      ]
    },
    {
      "cell_type": "markdown",
      "source": [
        "## Linear Regression Metrics\n",
        "\n",
        "In this section we will calculate the model's metrics"
      ],
      "metadata": {
        "id": "E2arWyA71YPN"
      }
    },
    {
      "cell_type": "code",
      "source": [
        "resumo_treino = modelo_lr.summary"
      ],
      "metadata": {
        "id": "mW-M94DQyt8U"
      },
      "execution_count": null,
      "outputs": []
    },
    {
      "cell_type": "code",
      "source": [
        "resumo_treino.r2"
      ],
      "metadata": {
        "colab": {
          "base_uri": "https://localhost:8080/"
        },
        "id": "D7_WWiYkl56e",
        "outputId": "33cc8681-109b-4c36-f67e-5c406fbcd35e"
      },
      "execution_count": null,
      "outputs": [
        {
          "output_type": "execute_result",
          "data": {
            "text/plain": [
              "0.6655873678454578"
            ]
          },
          "metadata": {},
          "execution_count": 139
        }
      ]
    },
    {
      "cell_type": "code",
      "source": [
        "resumo_treino.rootMeanSquaredError"
      ],
      "metadata": {
        "colab": {
          "base_uri": "https://localhost:8080/"
        },
        "id": "ouxmC28Yl8dh",
        "outputId": "ac210af6-5ad8-4af8-eae6-4f33666aabe2"
      },
      "execution_count": null,
      "outputs": [
        {
          "output_type": "execute_result",
          "data": {
            "text/plain": [
              "810348.969531623"
            ]
          },
          "metadata": {},
          "execution_count": 140
        }
      ]
    },
    {
      "cell_type": "code",
      "source": [
        "resumo_teste = modelo_lr.evaluate(teste)"
      ],
      "metadata": {
        "id": "hYd6TsUQmOVV"
      },
      "execution_count": null,
      "outputs": []
    },
    {
      "cell_type": "code",
      "source": [
        "print(f'R2: {resumo_teste.r2}')\n",
        "print(f'Root Mean Squared Error: {resumo_teste.rootMeanSquaredError}')"
      ],
      "metadata": {
        "colab": {
          "base_uri": "https://localhost:8080/"
        },
        "id": "T8WuAUP5nYfs",
        "outputId": "626aff28-2985-4a70-da65-7a12f0f4e66b"
      },
      "execution_count": null,
      "outputs": [
        {
          "output_type": "stream",
          "name": "stdout",
          "text": [
            "R2: 0.6585207937774393\n",
            "Root Mean Squared Error: 800525.9696828632\n"
          ]
        }
      ]
    },
    {
      "cell_type": "code",
      "source": [
        "print('Linear Regression')\n",
        "print(\"=\"*30)\n",
        "print(\"Dados de Treino\")\n",
        "print(\"=\"*30)\n",
        "print(\"R²: %f\" % resumo_treino.r2)\n",
        "print(\"RMSE: %f\" % resumo_treino.rootMeanSquaredError)\n",
        "print(\"\")\n",
        "print(\"=\"*30)\n",
        "print(\"Dados de Teste\")\n",
        "print(\"=\"*30)\n",
        "print(\"R²: %f\" % resumo_teste.r2)\n",
        "print(\"RMSE: %f\" % resumo_teste.rootMeanSquaredError)\n"
      ],
      "metadata": {
        "colab": {
          "base_uri": "https://localhost:8080/"
        },
        "id": "Hyy3f9yIntrI",
        "outputId": "da4f93ea-d472-4616-d2dd-d413abea5dcb"
      },
      "execution_count": null,
      "outputs": [
        {
          "output_type": "stream",
          "name": "stdout",
          "text": [
            "Linear Regression\n",
            "==============================\n",
            "Dados de Treino\n",
            "==============================\n",
            "R²: 0.665587\n",
            "RMSE: 810348.969532\n",
            "\n",
            "==============================\n",
            "Dados de Teste\n",
            "==============================\n",
            "R²: 0.658521\n",
            "RMSE: 800525.969683\n"
          ]
        }
      ]
    },
    {
      "cell_type": "markdown",
      "source": [
        "## Decision Tree for Regresion\n",
        "\n",
        "In this section we will create a Decision Tree classifier for predicting house prices within our dataset"
      ],
      "metadata": {
        "id": "tiUr12fFy8TG"
      }
    },
    {
      "cell_type": "code",
      "source": [
        "from pyspark.ml.regression import DecisionTreeRegressor\n",
        "\n",
        "dtr = DecisionTreeRegressor(seed=101, maxDepth=7)"
      ],
      "metadata": {
        "id": "CM1QVkl9s028"
      },
      "execution_count": null,
      "outputs": []
    },
    {
      "cell_type": "code",
      "source": [
        "modelo_dtr = dtr.fit(treino)"
      ],
      "metadata": {
        "id": "hsA0AFJOzvUE"
      },
      "execution_count": null,
      "outputs": []
    },
    {
      "cell_type": "code",
      "source": [
        "previsoes_dtr_treino = modelo_dtr.transform(treino)\n",
        "previsoes_dtr_treino.show()"
      ],
      "metadata": {
        "colab": {
          "base_uri": "https://localhost:8080/"
        },
        "id": "3VpgM4zezzj-",
        "outputId": "35fb1d6d-ece1-48eb-a48c-2dfccb69dc27"
      },
      "execution_count": null,
      "outputs": [
        {
          "output_type": "stream",
          "name": "stdout",
          "text": [
            "+--------------------+--------+------------------+\n",
            "|            features|   label|        prediction|\n",
            "+--------------------+--------+------------------+\n",
            "|(17,[0,1,2,3,4,5,...|260000.0| 340855.8044843049|\n",
            "|(17,[0,1,2,3,4,5,...|500000.0| 553816.2525860447|\n",
            "|(17,[0,1,2,3,4,5,...|308615.0| 340855.8044843049|\n",
            "|(17,[0,1,2,3,4,5,...|279000.0| 340855.8044843049|\n",
            "|(17,[0,1,2,3,4,5,...|545000.0|     445137.460625|\n",
            "|(17,[0,1,2,3,4,5,...|449000.0| 553816.2525860447|\n",
            "|(17,[0,1,2,3,4,5,...|479000.0|     445137.460625|\n",
            "|(17,[0,1,2,3,4,5,...|420000.0| 553816.2525860447|\n",
            "|(17,[0,1,2,3,4,5,...|265000.0| 553816.2525860447|\n",
            "|(17,[0,1,2,3,4,5,...|490000.0|  820272.937751004|\n",
            "|(17,[0,1,2,3,4,5,...|650000.0|  736254.943802521|\n",
            "|(17,[0,1,2,3,4,5,...|379900.0|     445137.460625|\n",
            "|(17,[0,1,2,3,4,5,...|449000.0|     445137.460625|\n",
            "|(17,[0,1,2,3,4,5,...|190000.0| 340855.8044843049|\n",
            "|(17,[0,1,2,3,4,5,...|896000.0| 553816.2525860447|\n",
            "|(17,[0,1,2,3,4,5,...|679000.0|1158420.7653661144|\n",
            "|(17,[0,1,2,3,4,5,...|620000.0| 553816.2525860447|\n",
            "|(17,[0,1,2,3,4,5,...|727000.0| 553816.2525860447|\n",
            "|(17,[0,1,2,3,4,5,...|880000.0| 553816.2525860447|\n",
            "|(17,[0,1,2,3,4,5,...|435000.0| 340855.8044843049|\n",
            "+--------------------+--------+------------------+\n",
            "only showing top 20 rows\n",
            "\n"
          ]
        }
      ]
    },
    {
      "cell_type": "markdown",
      "source": [
        "## Decision Tree Metrics\n",
        "\n",
        "In this section we will explore Decision Tree metrics"
      ],
      "metadata": {
        "id": "qjOAK1y-1qxU"
      }
    },
    {
      "cell_type": "code",
      "source": [
        "from pyspark.ml.evaluation import RegressionEvaluator\n",
        "evaluator = RegressionEvaluator()"
      ],
      "metadata": {
        "id": "Q1Xwjl_k0l3u"
      },
      "execution_count": null,
      "outputs": []
    },
    {
      "cell_type": "code",
      "source": [
        "print('R2: ', evaluator.evaluate(previsoes_dtr_treino, {evaluator.metricName: 'r2'}))\n",
        "print('RMSE: ', evaluator.evaluate(previsoes_dtr_treino, {evaluator.metricName: 'rmse'}))"
      ],
      "metadata": {
        "colab": {
          "base_uri": "https://localhost:8080/"
        },
        "id": "mMxAKdEL847T",
        "outputId": "5487b4f9-5698-4867-8cc7-6ff8a0dba85a"
      },
      "execution_count": null,
      "outputs": [
        {
          "output_type": "stream",
          "name": "stdout",
          "text": [
            "R2:  0.7930752588471226\n",
            "RMSE:  637436.5434260432\n"
          ]
        }
      ]
    },
    {
      "cell_type": "code",
      "source": [
        "previsoes_dtr_teste = modelo_dtr.transform(teste)\n",
        "previsoes_dtr_teste.show()"
      ],
      "metadata": {
        "colab": {
          "base_uri": "https://localhost:8080/"
        },
        "id": "oruDD66b9onU",
        "outputId": "da540450-7a6c-4d1a-c415-7ff7b9cff8b4"
      },
      "execution_count": null,
      "outputs": [
        {
          "output_type": "stream",
          "name": "stdout",
          "text": [
            "+--------------------+---------+------------------+\n",
            "|            features|    label|        prediction|\n",
            "+--------------------+---------+------------------+\n",
            "|(17,[0,1,2,3,4,5,...| 199000.0| 340855.8044843049|\n",
            "|(17,[0,1,2,3,4,5,...| 350000.0|  820272.937751004|\n",
            "|(17,[0,1,2,3,4,5,...| 340000.0| 553816.2525860447|\n",
            "|(17,[0,1,2,3,4,5,...| 430000.0| 553816.2525860447|\n",
            "|(17,[0,1,2,3,4,5,...| 600000.0| 553816.2525860447|\n",
            "|(17,[0,1,2,3,4,5,...| 439000.0| 553816.2525860447|\n",
            "|(17,[0,1,2,3,4,5,...| 333000.0| 340855.8044843049|\n",
            "|(17,[0,1,2,3,4,5,...| 948000.0|  736254.943802521|\n",
            "|(17,[0,1,2,3,4,5,...| 459600.0| 340855.8044843049|\n",
            "|(17,[0,1,2,3,4,5,...| 447600.0| 340855.8044843049|\n",
            "|(17,[0,1,2,3,4,5,...| 360000.0| 340855.8044843049|\n",
            "|(17,[0,1,2,3,4,5,...| 407000.0| 553816.2525860447|\n",
            "|(17,[0,1,2,3,4,5,...| 310000.0| 340855.8044843049|\n",
            "|(17,[0,1,2,3,4,5,...|1400000.0|1289301.4891122277|\n",
            "|(17,[0,1,2,3,4,5,...|1180000.0|1289301.4891122277|\n",
            "|(17,[0,1,2,3,4,5,...|1299500.0|1158420.7653661144|\n",
            "|(17,[0,1,2,3,4,5,...| 296100.0| 340855.8044843049|\n",
            "|(17,[0,1,2,3,4,5,...| 285000.0| 340855.8044843049|\n",
            "|(17,[0,1,2,3,4,5,...| 679720.0| 553816.2525860447|\n",
            "|(17,[0,1,2,3,4,5,...| 509150.0| 553816.2525860447|\n",
            "+--------------------+---------+------------------+\n",
            "only showing top 20 rows\n",
            "\n"
          ]
        }
      ]
    },
    {
      "cell_type": "code",
      "source": [
        "print('Decision Tree Regression')\n",
        "print(\"=\"*30)\n",
        "print(\"Dados de Treino\")\n",
        "print(\"=\"*30)\n",
        "print(\"R²: %f\" % evaluator.evaluate(previsoes_dtr_treino, {evaluator.metricName: \"r2\"}))\n",
        "print(\"RMSE: %f\" % evaluator.evaluate(previsoes_dtr_treino, {evaluator.metricName: \"rmse\"}))\n",
        "print(\"\")\n",
        "print(\"=\"*30)\n",
        "print(\"Dados de Teste\")\n",
        "print(\"=\"*30)\n",
        "print(\"R²: %f\" % evaluator.evaluate(previsoes_dtr_teste, {evaluator.metricName: \"r2\"}))\n",
        "print(\"RMSE: %f\" % evaluator.evaluate(previsoes_dtr_teste, {evaluator.metricName: \"rmse\"}))\n"
      ],
      "metadata": {
        "colab": {
          "base_uri": "https://localhost:8080/"
        },
        "id": "6hbgNvJA-15x",
        "outputId": "7c3882d8-9a17-43a5-a4b0-2875f0e21a33"
      },
      "execution_count": null,
      "outputs": [
        {
          "output_type": "stream",
          "name": "stdout",
          "text": [
            "Decision Tree Regression\n",
            "==============================\n",
            "Dados de Treino\n",
            "==============================\n",
            "R²: 0.793075\n",
            "RMSE: 637436.543426\n",
            "\n",
            "==============================\n",
            "Dados de Teste\n",
            "==============================\n",
            "R²: 0.773813\n",
            "RMSE: 651518.489921\n"
          ]
        }
      ]
    },
    {
      "cell_type": "markdown",
      "source": [
        "## Random Forest for Regression\n",
        "\n",
        "In this section we will create a Random Forest for predicting house prices"
      ],
      "metadata": {
        "id": "NVlaMjh7CEms"
      }
    },
    {
      "cell_type": "code",
      "source": [
        "from pyspark.ml.regression import RandomForestRegressor\n",
        "rfr = RandomForestRegressor(seed=101, maxDepth=7, numTrees=10)"
      ],
      "metadata": {
        "id": "Q_xYV8nh-_Nq"
      },
      "execution_count": null,
      "outputs": []
    },
    {
      "cell_type": "code",
      "source": [
        "modelo_rfr = rfr.fit(treino)\n",
        "previsoes_rfr_treino = modelo_rfr.transform(treino)\n",
        "previsoes_rfr_treino.show()"
      ],
      "metadata": {
        "colab": {
          "base_uri": "https://localhost:8080/"
        },
        "id": "eXKUVmE5E7Ul",
        "outputId": "7f639237-81ef-4299-cd0e-b68a129336a0"
      },
      "execution_count": null,
      "outputs": [
        {
          "output_type": "stream",
          "name": "stdout",
          "text": [
            "+--------------------+--------+------------------+\n",
            "|            features|   label|        prediction|\n",
            "+--------------------+--------+------------------+\n",
            "|(17,[0,1,2,3,4,5,...|260000.0|390218.33742322924|\n",
            "|(17,[0,1,2,3,4,5,...|500000.0| 510060.6595782173|\n",
            "|(17,[0,1,2,3,4,5,...|308615.0|360766.74127901345|\n",
            "|(17,[0,1,2,3,4,5,...|279000.0|360766.74127901345|\n",
            "|(17,[0,1,2,3,4,5,...|545000.0|  396904.928725379|\n",
            "|(17,[0,1,2,3,4,5,...|449000.0|  492913.652312712|\n",
            "|(17,[0,1,2,3,4,5,...|479000.0|433807.13396085694|\n",
            "|(17,[0,1,2,3,4,5,...|420000.0| 664440.4325776277|\n",
            "|(17,[0,1,2,3,4,5,...|265000.0|479615.50733929937|\n",
            "|(17,[0,1,2,3,4,5,...|490000.0| 816123.0337632223|\n",
            "|(17,[0,1,2,3,4,5,...|650000.0| 640247.1517314625|\n",
            "|(17,[0,1,2,3,4,5,...|379900.0|403131.21721626434|\n",
            "|(17,[0,1,2,3,4,5,...|449000.0|403131.21721626434|\n",
            "|(17,[0,1,2,3,4,5,...|190000.0| 356904.3339549792|\n",
            "|(17,[0,1,2,3,4,5,...|896000.0| 547828.3209496561|\n",
            "|(17,[0,1,2,3,4,5,...|679000.0| 893791.6624292185|\n",
            "|(17,[0,1,2,3,4,5,...|620000.0| 526635.5362588142|\n",
            "|(17,[0,1,2,3,4,5,...|727000.0| 526635.5362588142|\n",
            "|(17,[0,1,2,3,4,5,...|880000.0| 526635.5362588142|\n",
            "|(17,[0,1,2,3,4,5,...|435000.0| 356904.3339549792|\n",
            "+--------------------+--------+------------------+\n",
            "only showing top 20 rows\n",
            "\n"
          ]
        }
      ]
    },
    {
      "cell_type": "markdown",
      "source": [
        "## Random Forest Metrics\n",
        "\n",
        "In this section we will take a look at the Random Forest's metrics"
      ],
      "metadata": {
        "id": "BAXZDhLXvR2-"
      }
    },
    {
      "cell_type": "code",
      "source": [
        "print('R2: ', evaluator.evaluate(previsoes_rfr_treino, {evaluator.metricName: 'r2'}))\n",
        "print('RMSE: ', evaluator.evaluate(previsoes_rfr_treino, {evaluator.metricName: 'rmse'}))"
      ],
      "metadata": {
        "colab": {
          "base_uri": "https://localhost:8080/"
        },
        "id": "ibmvc9gCFuJo",
        "outputId": "2d6112c2-c701-43d6-f09e-902e679227a0"
      },
      "execution_count": null,
      "outputs": [
        {
          "output_type": "stream",
          "name": "stdout",
          "text": [
            "R2:  0.8017561510914318\n",
            "RMSE:  623922.4426224458\n"
          ]
        }
      ]
    },
    {
      "cell_type": "code",
      "source": [
        "previsoes_rfr_teste = modelo_rfr.transform(teste)\n",
        "previsoes_rfr_teste.show()"
      ],
      "metadata": {
        "colab": {
          "base_uri": "https://localhost:8080/"
        },
        "id": "pI2W86s9wSiz",
        "outputId": "d80a5de2-0bdc-4941-a469-35db068c5953"
      },
      "execution_count": null,
      "outputs": [
        {
          "output_type": "stream",
          "name": "stdout",
          "text": [
            "+--------------------+---------+------------------+\n",
            "|            features|    label|        prediction|\n",
            "+--------------------+---------+------------------+\n",
            "|(17,[0,1,2,3,4,5,...| 199000.0| 350678.0454640939|\n",
            "|(17,[0,1,2,3,4,5,...| 350000.0| 792518.9735011571|\n",
            "|(17,[0,1,2,3,4,5,...| 340000.0|479615.50733929937|\n",
            "|(17,[0,1,2,3,4,5,...| 430000.0| 526635.5362588142|\n",
            "|(17,[0,1,2,3,4,5,...| 600000.0| 526635.5362588142|\n",
            "|(17,[0,1,2,3,4,5,...| 439000.0| 550795.8732599718|\n",
            "|(17,[0,1,2,3,4,5,...| 333000.0| 356904.3339549792|\n",
            "|(17,[0,1,2,3,4,5,...| 948000.0| 640247.1517314625|\n",
            "|(17,[0,1,2,3,4,5,...| 459600.0| 356904.3339549792|\n",
            "|(17,[0,1,2,3,4,5,...| 447600.0| 356904.3339549792|\n",
            "|(17,[0,1,2,3,4,5,...| 360000.0| 356904.3339549792|\n",
            "|(17,[0,1,2,3,4,5,...| 407000.0|  492913.652312712|\n",
            "|(17,[0,1,2,3,4,5,...| 310000.0|412580.35636663495|\n",
            "|(17,[0,1,2,3,4,5,...|1400000.0| 1375418.570408164|\n",
            "|(17,[0,1,2,3,4,5,...|1180000.0| 1375418.570408164|\n",
            "|(17,[0,1,2,3,4,5,...|1299500.0|1111896.8209940076|\n",
            "|(17,[0,1,2,3,4,5,...| 296100.0| 352263.6404621517|\n",
            "|(17,[0,1,2,3,4,5,...| 285000.0| 352263.6404621517|\n",
            "|(17,[0,1,2,3,4,5,...| 679720.0| 580272.9453894051|\n",
            "|(17,[0,1,2,3,4,5,...| 509150.0| 508101.1046743891|\n",
            "+--------------------+---------+------------------+\n",
            "only showing top 20 rows\n",
            "\n"
          ]
        }
      ]
    },
    {
      "cell_type": "code",
      "source": [
        "print('Random Forest Regression')\n",
        "print(\"=\"*30)\n",
        "print(\"Dados de Treino\")\n",
        "print(\"=\"*30)\n",
        "print(\"R²: %f\" % evaluator.evaluate(previsoes_rfr_treino, {evaluator.metricName: \"r2\"}))\n",
        "print(\"RMSE: %f\" % evaluator.evaluate(previsoes_rfr_treino, {evaluator.metricName: \"rmse\"}))\n",
        "print(\"\")\n",
        "print(\"=\"*30)\n",
        "print(\"Dados de Teste\")\n",
        "print(\"=\"*30)\n",
        "print(\"R²: %f\" % evaluator.evaluate(previsoes_rfr_teste, {evaluator.metricName: \"r2\"}))\n",
        "print(\"RMSE: %f\" % evaluator.evaluate(previsoes_rfr_teste, {evaluator.metricName: \"rmse\"}))\n"
      ],
      "metadata": {
        "colab": {
          "base_uri": "https://localhost:8080/"
        },
        "id": "wxJ1_lV1x8yG",
        "outputId": "f82959b0-4674-4b9e-afdf-330c7e06bfec"
      },
      "execution_count": null,
      "outputs": [
        {
          "output_type": "stream",
          "name": "stdout",
          "text": [
            "Random Forest Regression\n",
            "==============================\n",
            "Dados de Treino\n",
            "==============================\n",
            "R²: 0.801756\n",
            "RMSE: 623922.442622\n",
            "\n",
            "==============================\n",
            "Dados de Teste\n",
            "==============================\n",
            "R²: 0.790530\n",
            "RMSE: 626981.467738\n"
          ]
        }
      ]
    },
    {
      "cell_type": "markdown",
      "source": [
        "## Cross Validation\n",
        "\n",
        "In this section we will apply Cross Validation for obtaining better results"
      ],
      "metadata": {
        "id": "C3VbDQ973v5q"
      }
    },
    {
      "cell_type": "code",
      "source": [
        " from pyspark.ml.tuning import CrossValidator, ParamGridBuilder"
      ],
      "metadata": {
        "id": "l0QTeX_cyHaA"
      },
      "execution_count": null,
      "outputs": []
    },
    {
      "cell_type": "code",
      "source": [
        "dtr = DecisionTreeRegressor()"
      ],
      "metadata": {
        "id": "9NQll6vt44Ss"
      },
      "execution_count": null,
      "outputs": []
    },
    {
      "cell_type": "code",
      "source": [
        "grid = ParamGridBuilder()\\\n",
        "        .addGrid(dtr.maxDepth, [2, 5, 10])\\\n",
        "        .addGrid(dtr.maxBins, [10, 32, 45])\\\n",
        "        .build()"
      ],
      "metadata": {
        "id": "h539Kj5lBpRC"
      },
      "execution_count": null,
      "outputs": []
    },
    {
      "cell_type": "code",
      "source": [
        "dtr_cv = CrossValidator(\n",
        "      estimator=dtr,\n",
        "      estimatorParamMaps=grid,\n",
        "      evaluator=evaluator,\n",
        "      numFolds=3,\n",
        "      seed=101\n",
        ")"
      ],
      "metadata": {
        "id": "_jUcAvqrCgPF"
      },
      "execution_count": null,
      "outputs": []
    },
    {
      "cell_type": "code",
      "source": [
        "modelo_dtr_cv = dtr_cv.fit(treino)"
      ],
      "metadata": {
        "id": "wIp5OCIMD-fo"
      },
      "execution_count": null,
      "outputs": []
    },
    {
      "cell_type": "code",
      "source": [
        "previsoes_dtr_cv_teste = modelo_dtr_cv.transform(teste)"
      ],
      "metadata": {
        "id": "vX8mtKQwEKZk"
      },
      "execution_count": null,
      "outputs": []
    },
    {
      "cell_type": "code",
      "source": [
        "print('Decision Tree Regression')\n",
        "print(\"=\"*30)\n",
        "print(\"Sem Cross Validation\")\n",
        "print(\"=\"*30)\n",
        "print(\"R²: %f\" % evaluator.evaluate(previsoes_dtr_teste, {evaluator.metricName: \"r2\"}))\n",
        "print(\"RMSE: %f\" % evaluator.evaluate(previsoes_dtr_teste, {evaluator.metricName: \"rmse\"}))\n",
        "print(\"\")\n",
        "print(\"=\"*30)\n",
        "print(\"Com Cross Validation\")\n",
        "print(\"=\"*30)\n",
        "print(\"R²: %f\" % evaluator.evaluate(previsoes_dtr_cv_teste, {evaluator.metricName: \"r2\"}))\n",
        "print(\"RMSE: %f\" % evaluator.evaluate(previsoes_dtr_cv_teste, {evaluator.metricName: \"rmse\"}))\n"
      ],
      "metadata": {
        "colab": {
          "base_uri": "https://localhost:8080/"
        },
        "id": "9AYW1VyvIF2D",
        "outputId": "a34d6729-fe46-4e52-a059-8729cacea4dd"
      },
      "execution_count": null,
      "outputs": [
        {
          "output_type": "stream",
          "name": "stdout",
          "text": [
            "Decision Tree Regression\n",
            "==============================\n",
            "Sem Cross Validation\n",
            "==============================\n",
            "R²: 0.773813\n",
            "RMSE: 651518.489921\n",
            "\n",
            "==============================\n",
            "Com Cross Validation\n",
            "==============================\n",
            "R²: 0.793395\n",
            "RMSE: 622677.960835\n"
          ]
        }
      ]
    },
    {
      "cell_type": "code",
      "source": [
        "rfr = RandomForestRegressor()"
      ],
      "metadata": {
        "id": "Hc99ybxsIZg7"
      },
      "execution_count": null,
      "outputs": []
    },
    {
      "cell_type": "code",
      "source": [
        "grid = ParamGridBuilder()\\\n",
        "        .addGrid(rfr.numTrees, [10, 20, 30])\\\n",
        "        .addGrid(rfr.maxDepth, [5, 10])\\\n",
        "        .addGrid(rfr.maxBins, [10, 32, 45])\\\n",
        "        .build()"
      ],
      "metadata": {
        "id": "35FCFjnAoVnY"
      },
      "execution_count": null,
      "outputs": []
    },
    {
      "cell_type": "code",
      "source": [
        "rfr_cv = CrossValidator(\n",
        "    estimator=rfr,\n",
        "    estimatorParamMaps=grid,\n",
        "    evaluator=evaluator,\n",
        "    numFolds=3,\n",
        "    seed=101\n",
        ")"
      ],
      "metadata": {
        "id": "pDx1W4Xpovx_"
      },
      "execution_count": null,
      "outputs": []
    },
    {
      "cell_type": "code",
      "source": [
        "modelo_rfr_cv = rfr_cv.fit(treino)"
      ],
      "metadata": {
        "id": "CVNY94kKo64J"
      },
      "execution_count": null,
      "outputs": []
    },
    {
      "cell_type": "code",
      "source": [
        "previsoes_rfr_cv_teste = modelo_rfr_cv.transform(teste)"
      ],
      "metadata": {
        "id": "H9O0fUtOq6tG"
      },
      "execution_count": null,
      "outputs": []
    },
    {
      "cell_type": "code",
      "source": [
        "print('Random Forest Regression')\n",
        "print(\"=\"*30)\n",
        "print(\"Sem Cross Validation\")\n",
        "print(\"=\"*30)\n",
        "print(\"R²: %f\" % evaluator.evaluate(previsoes_rfr_teste, {evaluator.metricName: \"r2\"}))\n",
        "print(\"RMSE: %f\" % evaluator.evaluate(previsoes_rfr_teste, {evaluator.metricName: \"rmse\"}))\n",
        "print(\"\")\n",
        "print(\"=\"*30)\n",
        "print(\"Com Cross Validation\")\n",
        "print(\"=\"*30)\n",
        "print(\"R²: %f\" % evaluator.evaluate(previsoes_rfr_cv_teste, {evaluator.metricName: \"r2\"}))\n",
        "print(\"RMSE: %f\" % evaluator.evaluate(previsoes_rfr_cv_teste, {evaluator.metricName: \"rmse\"}))\n"
      ],
      "metadata": {
        "colab": {
          "base_uri": "https://localhost:8080/"
        },
        "id": "GC7VM_ahrWnR",
        "outputId": "92a38634-2e6d-4b36-9afe-aef438627aa5"
      },
      "execution_count": null,
      "outputs": [
        {
          "output_type": "stream",
          "name": "stdout",
          "text": [
            "Random Forest Regression\n",
            "==============================\n",
            "Sem Cross Validation\n",
            "==============================\n",
            "R²: 0.790530\n",
            "RMSE: 626981.467738\n",
            "\n",
            "==============================\n",
            "Com Cross Validation\n",
            "==============================\n",
            "R²: 0.829685\n",
            "RMSE: 565353.088984\n"
          ]
        }
      ]
    },
    {
      "cell_type": "markdown",
      "source": [
        "## Predicting results with the best model\n",
        "\n",
        "In this section we will predict the house price based on a fictional price that we want to buy in the near future."
      ],
      "metadata": {
        "id": "zBVZbw3I9NBd"
      }
    },
    {
      "cell_type": "code",
      "source": [
        "X"
      ],
      "metadata": {
        "id": "MfW3kk2qsjJF",
        "colab": {
          "base_uri": "https://localhost:8080/"
        },
        "outputId": "e4483830-df72-4f5c-8408-dd5c99c9c613"
      },
      "execution_count": null,
      "outputs": [
        {
          "output_type": "execute_result",
          "data": {
            "text/plain": [
              "['bathrooms',\n",
              " 'bedrooms',\n",
              " 'floors',\n",
              " 'parkingSpaces',\n",
              " 'suites',\n",
              " 'unitFloor',\n",
              " 'unitsOnTheFloor',\n",
              " 'usableAreas',\n",
              " 'condo',\n",
              " 'iptu',\n",
              " 'Apartamento',\n",
              " 'Casa',\n",
              " 'Outros',\n",
              " 'Zona Central',\n",
              " 'Zona Norte',\n",
              " 'Zona Oeste',\n",
              " 'Zona Sul']"
            ]
          },
          "metadata": {},
          "execution_count": 169
        }
      ]
    },
    {
      "cell_type": "code",
      "source": [
        "   novo_imovel = [{\n",
        "    'bathrooms': 2,\n",
        "    'bedrooms': 2,\n",
        "    'floors': 2,\n",
        "    'parkingSpaces': 1,\n",
        "    'suites': 1,\n",
        "    'unitFloor':0,\n",
        "    'unitsOnTheFloor':0,\n",
        "    'usableAreas':200,\n",
        "    'condo':200,\n",
        "    'iptu':0,\n",
        "    'Apartamento':0,\n",
        "    'Casa':1,\n",
        "    'Outros':0,\n",
        "    'Zona Central':0,\n",
        "    'Zona Norte':0,\n",
        "    'Zona Oeste':0,\n",
        "    'Zona Sul':1,\n",
        "    'label': 0}]\n"
      ],
      "metadata": {
        "id": "NUAGGrir9eng"
      },
      "execution_count": null,
      "outputs": []
    },
    {
      "cell_type": "code",
      "source": [
        "meu_imovel = spark.createDataFrame(novo_imovel)"
      ],
      "metadata": {
        "id": "HQRGSnUU9oah"
      },
      "execution_count": null,
      "outputs": []
    },
    {
      "cell_type": "code",
      "source": [
        "meu_imovel.show()"
      ],
      "metadata": {
        "colab": {
          "base_uri": "https://localhost:8080/"
        },
        "id": "Av-Dps-G96WT",
        "outputId": "de9a6723-0163-461d-9a2a-00dbb3ff29d8"
      },
      "execution_count": null,
      "outputs": [
        {
          "output_type": "stream",
          "name": "stdout",
          "text": [
            "+-----------+----+------+------------+----------+----------+--------+---------+--------+-----+------+----+-----+-------------+------+---------+---------------+-----------+\n",
            "|Apartamento|Casa|Outros|Zona Central|Zona Norte|Zona Oeste|Zona Sul|bathrooms|bedrooms|condo|floors|iptu|label|parkingSpaces|suites|unitFloor|unitsOnTheFloor|usableAreas|\n",
            "+-----------+----+------+------------+----------+----------+--------+---------+--------+-----+------+----+-----+-------------+------+---------+---------------+-----------+\n",
            "|          0|   1|     0|           0|         0|         0|       1|        2|       2|  200|     2|   0|    0|            1|     1|        0|              0|        200|\n",
            "+-----------+----+------+------------+----------+----------+--------+---------+--------+-----+------+----+-----+-------------+------+---------+---------------+-----------+\n",
            "\n"
          ]
        }
      ]
    },
    {
      "cell_type": "code",
      "source": [
        "assembler = VectorAssembler(inputCols=X, outputCol= 'features')"
      ],
      "metadata": {
        "id": "AJt7W4As98zv"
      },
      "execution_count": null,
      "outputs": []
    },
    {
      "cell_type": "code",
      "source": [
        "meu_lar_vetorizado = assembler.transform(meu_imovel).select('features', 'label')"
      ],
      "metadata": {
        "id": "AeR9VaFd-FVE"
      },
      "execution_count": null,
      "outputs": []
    },
    {
      "cell_type": "code",
      "source": [
        "meu_lar_vetorizado.show()"
      ],
      "metadata": {
        "colab": {
          "base_uri": "https://localhost:8080/"
        },
        "id": "SMey0STa-Q3p",
        "outputId": "5db77abc-c761-4d49-d01e-e6d607716192"
      },
      "execution_count": null,
      "outputs": [
        {
          "output_type": "stream",
          "name": "stdout",
          "text": [
            "+--------------------+-----+\n",
            "|            features|label|\n",
            "+--------------------+-----+\n",
            "|(17,[0,1,2,3,4,7,...|    0|\n",
            "+--------------------+-----+\n",
            "\n"
          ]
        }
      ]
    },
    {
      "cell_type": "code",
      "source": [
        "modelo_rfr_cv.transform(meu_lar_vetorizado).show()"
      ],
      "metadata": {
        "colab": {
          "base_uri": "https://localhost:8080/"
        },
        "id": "TjvvZbNA-SlF",
        "outputId": "5ee634c4-a2b2-4224-e6c6-af31d3cdd4d0"
      },
      "execution_count": null,
      "outputs": [
        {
          "output_type": "stream",
          "name": "stdout",
          "text": [
            "+--------------------+-----+------------------+\n",
            "|            features|label|        prediction|\n",
            "+--------------------+-----+------------------+\n",
            "|(17,[0,1,2,3,4,7,...|    0|2276525.2998010353|\n",
            "+--------------------+-----+------------------+\n",
            "\n"
          ]
        }
      ]
    }
  ]
}